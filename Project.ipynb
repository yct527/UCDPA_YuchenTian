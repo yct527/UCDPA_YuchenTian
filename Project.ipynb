{
 "cells": [
  {
   "cell_type": "code",
   "execution_count": 1,
   "metadata": {},
   "outputs": [],
   "source": [
    "from bs4 import BeautifulSoup as bs"
   ]
  },
  {
   "cell_type": "code",
   "execution_count": 2,
   "metadata": {},
   "outputs": [],
   "source": [
    "import requests"
   ]
  },
  {
   "cell_type": "code",
   "execution_count": 3,
   "metadata": {},
   "outputs": [],
   "source": [
    "import pandas as pd"
   ]
  },
  {
   "cell_type": "code",
   "execution_count": 4,
   "metadata": {},
   "outputs": [],
   "source": [
    "import numpy as np"
   ]
  },
  {
   "cell_type": "code",
   "execution_count": 5,
   "metadata": {},
   "outputs": [],
   "source": [
    "import matplotlib.pyplot as plt"
   ]
  },
  {
   "cell_type": "code",
   "execution_count": 6,
   "metadata": {},
   "outputs": [],
   "source": [
    "import seaborn as sns"
   ]
  },
  {
   "cell_type": "markdown",
   "metadata": {},
   "source": [
    "Web scraping hardware (game platforms) sales data from VGChartz.com"
   ]
  },
  {
   "cell_type": "code",
   "execution_count": 7,
   "metadata": {},
   "outputs": [],
   "source": [
    "r = requests.get('https://www.vgchartz.com/analysis/platform_totals/Hardware/Global/')"
   ]
  },
  {
   "cell_type": "code",
   "execution_count": 8,
   "metadata": {},
   "outputs": [],
   "source": [
    "vg_sales = bs(r.content, 'lxml')"
   ]
  },
  {
   "cell_type": "code",
   "execution_count": 9,
   "metadata": {},
   "outputs": [],
   "source": [
    "table = vg_sales.find(\"table\", { \"id\" : \"myTable\" })"
   ]
  },
  {
   "cell_type": "code",
   "execution_count": 10,
   "metadata": {
    "collapsed": true,
    "jupyter": {
     "outputs_hidden": true
    }
   },
   "outputs": [
    {
     "data": {
      "text/plain": [
       "<html><body><p>Pos\n",
       "Platform\n",
       "North America\n",
       "Europe\n",
       "Japan\n",
       "Rest of World\n",
       "Global\n",
       "\n",
       "\n",
       "\n",
       "\n",
       "1\n",
       "PlayStation 2 (PS2)\n",
       "53.65\n",
       "55.28\n",
       "23.18\n",
       "25.57\n",
       "157.68\n",
       "\n",
       "\n",
       "2\n",
       "Nintendo DS (DS)\n",
       "57.39\n",
       "52.07\n",
       "33.01\n",
       "12.43\n",
       "154.90\n",
       "\n",
       "\n",
       "3\n",
       "Game Boy (GB)\n",
       "43.18\n",
       "40.05\n",
       "32.47\n",
       "2.99\n",
       "118.69\n",
       "\n",
       "\n",
       "4\n",
       "PlayStation 4 (PS4)\n",
       "38.14\n",
       "48.09\n",
       "9.36\n",
       "19.99\n",
       "115.58\n",
       "\n",
       "\n",
       "5\n",
       "PlayStation (PS)\n",
       "40.78\n",
       "31.09\n",
       "21.59\n",
       "9.04\n",
       "102.50\n",
       "\n",
       "\n",
       "6\n",
       "Wii (Wii)\n",
       "45.51\n",
       "33.88\n",
       "12.77\n",
       "9.48\n",
       "101.64\n",
       "\n",
       "\n",
       "7\n",
       "PlayStation 3 (PS3)\n",
       "29.42\n",
       "34.99\n",
       "10.47\n",
       "12.53\n",
       "87.41\n",
       "\n",
       "\n",
       "8\n",
       "Xbox 360 (X360)\n",
       "49.11\n",
       "25.87\n",
       "1.66\n",
       "9.16\n",
       "85.80\n",
       "\n",
       "\n",
       "9\n",
       "Nintendo Switch (NS)\n",
       "32.14\n",
       "22.21\n",
       "19.92\n",
       "11.43\n",
       "85.70\n",
       "\n",
       "\n",
       "10\n",
       "Game Boy Advance (GBA)\n",
       "40.39\n",
       "21.31\n",
       "16.96\n",
       "2.85\n",
       "81.51\n",
       "\n",
       "\n",
       "11\n",
       "PlayStation Portable (PSP)\n",
       "21.41\n",
       "24.41\n",
       "20.01\n",
       "15.26\n",
       "81.09\n",
       "\n",
       "\n",
       "12\n",
       "Nintendo 3DS (3DS)\n",
       "25.77\n",
       "21.07\n",
       "24.65\n",
       "4.44\n",
       "75.93\n",
       "\n",
       "\n",
       "13\n",
       "Nintendo Entertainment System (NES)\n",
       "33.49\n",
       "8.30\n",
       "19.35\n",
       "0.77\n",
       "61.91\n",
       "\n",
       "\n",
       "14\n",
       "Xbox One (XOne)\n",
       "32.13\n",
       "12.39\n",
       "0.12\n",
       "5.46\n",
       "50.10\n",
       "\n",
       "\n",
       "15\n",
       "Super Nintendo Entertainment System (SNES)\n",
       "22.88\n",
       "8.15\n",
       "17.17\n",
       "0.90\n",
       "49.10\n",
       "\n",
       "\n",
       "16\n",
       "Nintendo 64 (N64)\n",
       "20.11\n",
       "6.35\n",
       "5.54\n",
       "0.93\n",
       "32.93\n",
       "\n",
       "\n",
       "17\n",
       "Sega Genesis (GEN)\n",
       "16.98\n",
       "8.39\n",
       "3.58\n",
       "0.59\n",
       "29.54\n",
       "\n",
       "\n",
       "18\n",
       "Atari 2600 (2600)\n",
       "23.54\n",
       "3.35\n",
       "0.00\n",
       "0.75\n",
       "27.64\n",
       "\n",
       "\n",
       "19\n",
       "Xbox (XB)\n",
       "15.77\n",
       "7.17\n",
       "0.53\n",
       "1.18\n",
       "24.65\n",
       "\n",
       "\n",
       "20\n",
       "GameCube (GC)\n",
       "12.55\n",
       "4.44\n",
       "4.04\n",
       "0.71\n",
       "21.74\n",
       "\n",
       "\n",
       "21\n",
       "PlayStation Vita (PSV)\n",
       "2.64\n",
       "5.24\n",
       "5.92\n",
       "2.41\n",
       "16.21\n",
       "\n",
       "\n",
       "22\n",
       "Wii U (WiiU)\n",
       "6.23\n",
       "3.54\n",
       "3.33\n",
       "0.87\n",
       "13.97\n",
       "\n",
       "\n",
       "23\n",
       "GameGear (GG)\n",
       "5.40\n",
       "3.23\n",
       "1.78\n",
       "0.21\n",
       "10.62\n",
       "\n",
       "\n",
       "24\n",
       "Sega Saturn (SAT)\n",
       "1.83\n",
       "1.12\n",
       "5.80\n",
       "0.07\n",
       "8.82\n",
       "\n",
       "\n",
       "25\n",
       "PlayStation 5 (PS5)\n",
       "3.70\n",
       "2.88\n",
       "0.73\n",
       "1.13\n",
       "8.44\n",
       "\n",
       "\n",
       "26\n",
       "Dreamcast (DC)\n",
       "3.90\n",
       "1.91\n",
       "2.25\n",
       "0.14\n",
       "8.20\n",
       "\n",
       "\n",
       "27\n",
       "Xbox Series X/S (XS)\n",
       "2.78\n",
       "1.47\n",
       "0.05\n",
       "0.71\n",
       "5.01\n",
       "\n",
       "\n",
       "28\n",
       "Atari 7800 (7800)\n",
       "4.30\n",
       "0.00\n",
       "0.00\n",
       "0.00\n",
       "4.30\n",
       "\n",
       "\n",
       "29\n",
       "WonderSwan (WS)\n",
       "0.00\n",
       "0.00\n",
       "1.12\n",
       "0.00\n",
       "1.12\n",
       "\n",
       "\n",
       "30\n",
       "3DO Interactive Multiplayer (3DO)\n",
       "0.00\n",
       "0.00\n",
       "0.00\n",
       "0.00\n",
       "0.00\n",
       "\n",
       "\n",
       "31\n",
       "Neo Geo (NG)\n",
       "0.00\n",
       "0.00\n",
       "0.00\n",
       "0.00\n",
       "0.00\n",
       "\n",
       "\n",
       "32\n",
       "iOS (iOS)\n",
       "0.00\n",
       "0.00\n",
       "0.00\n",
       "0.00\n",
       "0.00\n",
       "\n",
       "\n",
       "33\n",
       "PC-FX (PCFX)\n",
       "0.00\n",
       "0.00\n",
       "0.00\n",
       "0.00\n",
       "0.00\n",
       "\n",
       "\n",
       "34\n",
       "Sega CD (SCD)\n",
       "0.00\n",
       "0.00\n",
       "0.00\n",
       "0.00\n",
       "0.00\n",
       "\n",
       "\n",
       "35\n",
       "Microsoft Windows (PC)\n",
       "0.00\n",
       "0.00\n",
       "0.00\n",
       "0.00\n",
       "0.00\n",
       "\n",
       "\n",
       "36\n",
       "TurboGrafx-16 (TG16)\n",
       "0.00\n",
       "0.00\n",
       "0.00\n",
       "0.00\n",
       "0.00\n",
       "\n",
       "\n",
       "</p></body></html>"
      ]
     },
     "execution_count": 10,
     "metadata": {},
     "output_type": "execute_result"
    }
   ],
   "source": [
    "bs(table.text)"
   ]
  },
  {
   "cell_type": "code",
   "execution_count": 11,
   "metadata": {},
   "outputs": [],
   "source": [
    "table_body = table.find('tbody')"
   ]
  },
  {
   "cell_type": "code",
   "execution_count": 12,
   "metadata": {},
   "outputs": [],
   "source": [
    "data = []"
   ]
  },
  {
   "cell_type": "code",
   "execution_count": 13,
   "metadata": {},
   "outputs": [],
   "source": [
    "rows = table_body.find_all('tr')"
   ]
  },
  {
   "cell_type": "code",
   "execution_count": 14,
   "metadata": {},
   "outputs": [],
   "source": [
    "for row in rows:\n",
    "    cols = row.find_all('td')\n",
    "    cols = [ele.text.strip() for ele in cols]\n",
    "    data.append([ele for ele in cols if ele]) # Get rid of empty values"
   ]
  },
  {
   "cell_type": "code",
   "execution_count": 15,
   "metadata": {},
   "outputs": [],
   "source": [
    "df = pd.DataFrame(data)"
   ]
  },
  {
   "cell_type": "code",
   "execution_count": 16,
   "metadata": {},
   "outputs": [],
   "source": [
    "df.to_csv('console_sales.csv') # Saving the scraped data to a CSV file."
   ]
  },
  {
   "cell_type": "code",
   "execution_count": 17,
   "metadata": {},
   "outputs": [],
   "source": [
    "console_sales = pd.read_csv('console_sales.csv')"
   ]
  },
  {
   "cell_type": "code",
   "execution_count": 18,
   "metadata": {},
   "outputs": [
    {
     "data": {
      "text/html": [
       "<div>\n",
       "<style scoped>\n",
       "    .dataframe tbody tr th:only-of-type {\n",
       "        vertical-align: middle;\n",
       "    }\n",
       "\n",
       "    .dataframe tbody tr th {\n",
       "        vertical-align: top;\n",
       "    }\n",
       "\n",
       "    .dataframe thead th {\n",
       "        text-align: right;\n",
       "    }\n",
       "</style>\n",
       "<table border=\"1\" class=\"dataframe\">\n",
       "  <thead>\n",
       "    <tr style=\"text-align: right;\">\n",
       "      <th></th>\n",
       "      <th>Unnamed: 0</th>\n",
       "      <th>0</th>\n",
       "      <th>1</th>\n",
       "      <th>2</th>\n",
       "      <th>3</th>\n",
       "      <th>4</th>\n",
       "      <th>5</th>\n",
       "      <th>6</th>\n",
       "    </tr>\n",
       "  </thead>\n",
       "  <tbody>\n",
       "    <tr>\n",
       "      <th>0</th>\n",
       "      <td>0</td>\n",
       "      <td>1</td>\n",
       "      <td>PlayStation 2 (PS2)</td>\n",
       "      <td>53.65</td>\n",
       "      <td>55.28</td>\n",
       "      <td>23.18</td>\n",
       "      <td>25.57</td>\n",
       "      <td>157.68</td>\n",
       "    </tr>\n",
       "    <tr>\n",
       "      <th>1</th>\n",
       "      <td>1</td>\n",
       "      <td>2</td>\n",
       "      <td>Nintendo DS (DS)</td>\n",
       "      <td>57.39</td>\n",
       "      <td>52.07</td>\n",
       "      <td>33.01</td>\n",
       "      <td>12.43</td>\n",
       "      <td>154.90</td>\n",
       "    </tr>\n",
       "    <tr>\n",
       "      <th>2</th>\n",
       "      <td>2</td>\n",
       "      <td>3</td>\n",
       "      <td>Game Boy (GB)</td>\n",
       "      <td>43.18</td>\n",
       "      <td>40.05</td>\n",
       "      <td>32.47</td>\n",
       "      <td>2.99</td>\n",
       "      <td>118.69</td>\n",
       "    </tr>\n",
       "    <tr>\n",
       "      <th>3</th>\n",
       "      <td>3</td>\n",
       "      <td>4</td>\n",
       "      <td>PlayStation 4 (PS4)</td>\n",
       "      <td>38.14</td>\n",
       "      <td>48.09</td>\n",
       "      <td>9.36</td>\n",
       "      <td>19.99</td>\n",
       "      <td>115.58</td>\n",
       "    </tr>\n",
       "    <tr>\n",
       "      <th>4</th>\n",
       "      <td>4</td>\n",
       "      <td>5</td>\n",
       "      <td>PlayStation (PS)</td>\n",
       "      <td>40.78</td>\n",
       "      <td>31.09</td>\n",
       "      <td>21.59</td>\n",
       "      <td>9.04</td>\n",
       "      <td>102.50</td>\n",
       "    </tr>\n",
       "  </tbody>\n",
       "</table>\n",
       "</div>"
      ],
      "text/plain": [
       "   Unnamed: 0  0                    1      2      3      4      5       6\n",
       "0           0  1  PlayStation 2 (PS2)  53.65  55.28  23.18  25.57  157.68\n",
       "1           1  2     Nintendo DS (DS)  57.39  52.07  33.01  12.43  154.90\n",
       "2           2  3        Game Boy (GB)  43.18  40.05  32.47   2.99  118.69\n",
       "3           3  4  PlayStation 4 (PS4)  38.14  48.09   9.36  19.99  115.58\n",
       "4           4  5     PlayStation (PS)  40.78  31.09  21.59   9.04  102.50"
      ]
     },
     "execution_count": 18,
     "metadata": {},
     "output_type": "execute_result"
    }
   ],
   "source": [
    "console_sales.head()"
   ]
  },
  {
   "cell_type": "markdown",
   "metadata": {},
   "source": [
    "Dropping unnecessary columns and renaming the columns"
   ]
  },
  {
   "cell_type": "code",
   "execution_count": 19,
   "metadata": {},
   "outputs": [],
   "source": [
    "del(console_sales[\"Unnamed: 0\"])"
   ]
  },
  {
   "cell_type": "code",
   "execution_count": 20,
   "metadata": {},
   "outputs": [],
   "source": [
    "del(console_sales[\"0\"])"
   ]
  },
  {
   "cell_type": "code",
   "execution_count": 21,
   "metadata": {},
   "outputs": [
    {
     "data": {
      "text/html": [
       "<div>\n",
       "<style scoped>\n",
       "    .dataframe tbody tr th:only-of-type {\n",
       "        vertical-align: middle;\n",
       "    }\n",
       "\n",
       "    .dataframe tbody tr th {\n",
       "        vertical-align: top;\n",
       "    }\n",
       "\n",
       "    .dataframe thead th {\n",
       "        text-align: right;\n",
       "    }\n",
       "</style>\n",
       "<table border=\"1\" class=\"dataframe\">\n",
       "  <thead>\n",
       "    <tr style=\"text-align: right;\">\n",
       "      <th></th>\n",
       "      <th>1</th>\n",
       "      <th>2</th>\n",
       "      <th>3</th>\n",
       "      <th>4</th>\n",
       "      <th>5</th>\n",
       "      <th>6</th>\n",
       "    </tr>\n",
       "  </thead>\n",
       "  <tbody>\n",
       "    <tr>\n",
       "      <th>0</th>\n",
       "      <td>PlayStation 2 (PS2)</td>\n",
       "      <td>53.65</td>\n",
       "      <td>55.28</td>\n",
       "      <td>23.18</td>\n",
       "      <td>25.57</td>\n",
       "      <td>157.68</td>\n",
       "    </tr>\n",
       "    <tr>\n",
       "      <th>1</th>\n",
       "      <td>Nintendo DS (DS)</td>\n",
       "      <td>57.39</td>\n",
       "      <td>52.07</td>\n",
       "      <td>33.01</td>\n",
       "      <td>12.43</td>\n",
       "      <td>154.90</td>\n",
       "    </tr>\n",
       "    <tr>\n",
       "      <th>2</th>\n",
       "      <td>Game Boy (GB)</td>\n",
       "      <td>43.18</td>\n",
       "      <td>40.05</td>\n",
       "      <td>32.47</td>\n",
       "      <td>2.99</td>\n",
       "      <td>118.69</td>\n",
       "    </tr>\n",
       "    <tr>\n",
       "      <th>3</th>\n",
       "      <td>PlayStation 4 (PS4)</td>\n",
       "      <td>38.14</td>\n",
       "      <td>48.09</td>\n",
       "      <td>9.36</td>\n",
       "      <td>19.99</td>\n",
       "      <td>115.58</td>\n",
       "    </tr>\n",
       "    <tr>\n",
       "      <th>4</th>\n",
       "      <td>PlayStation (PS)</td>\n",
       "      <td>40.78</td>\n",
       "      <td>31.09</td>\n",
       "      <td>21.59</td>\n",
       "      <td>9.04</td>\n",
       "      <td>102.50</td>\n",
       "    </tr>\n",
       "  </tbody>\n",
       "</table>\n",
       "</div>"
      ],
      "text/plain": [
       "                     1      2      3      4      5       6\n",
       "0  PlayStation 2 (PS2)  53.65  55.28  23.18  25.57  157.68\n",
       "1     Nintendo DS (DS)  57.39  52.07  33.01  12.43  154.90\n",
       "2        Game Boy (GB)  43.18  40.05  32.47   2.99  118.69\n",
       "3  PlayStation 4 (PS4)  38.14  48.09   9.36  19.99  115.58\n",
       "4     PlayStation (PS)  40.78  31.09  21.59   9.04  102.50"
      ]
     },
     "execution_count": 21,
     "metadata": {},
     "output_type": "execute_result"
    }
   ],
   "source": [
    "console_sales.head()"
   ]
  },
  {
   "cell_type": "code",
   "execution_count": 22,
   "metadata": {},
   "outputs": [],
   "source": [
    "console_sales.columns = ['Platform', 'North America', 'Europe', 'Japan', 'Rest of World', 'Global']"
   ]
  },
  {
   "cell_type": "markdown",
   "metadata": {},
   "source": [
    "Setting the gaming platforms as the index"
   ]
  },
  {
   "cell_type": "code",
   "execution_count": 23,
   "metadata": {},
   "outputs": [],
   "source": [
    "console_sales = console_sales.set_index(\"Platform\")"
   ]
  },
  {
   "cell_type": "code",
   "execution_count": 24,
   "metadata": {},
   "outputs": [
    {
     "data": {
      "text/html": [
       "<div>\n",
       "<style scoped>\n",
       "    .dataframe tbody tr th:only-of-type {\n",
       "        vertical-align: middle;\n",
       "    }\n",
       "\n",
       "    .dataframe tbody tr th {\n",
       "        vertical-align: top;\n",
       "    }\n",
       "\n",
       "    .dataframe thead th {\n",
       "        text-align: right;\n",
       "    }\n",
       "</style>\n",
       "<table border=\"1\" class=\"dataframe\">\n",
       "  <thead>\n",
       "    <tr style=\"text-align: right;\">\n",
       "      <th></th>\n",
       "      <th>North America</th>\n",
       "      <th>Europe</th>\n",
       "      <th>Japan</th>\n",
       "      <th>Rest of World</th>\n",
       "      <th>Global</th>\n",
       "    </tr>\n",
       "    <tr>\n",
       "      <th>Platform</th>\n",
       "      <th></th>\n",
       "      <th></th>\n",
       "      <th></th>\n",
       "      <th></th>\n",
       "      <th></th>\n",
       "    </tr>\n",
       "  </thead>\n",
       "  <tbody>\n",
       "    <tr>\n",
       "      <th>PlayStation 2 (PS2)</th>\n",
       "      <td>53.65</td>\n",
       "      <td>55.28</td>\n",
       "      <td>23.18</td>\n",
       "      <td>25.57</td>\n",
       "      <td>157.68</td>\n",
       "    </tr>\n",
       "    <tr>\n",
       "      <th>Nintendo DS (DS)</th>\n",
       "      <td>57.39</td>\n",
       "      <td>52.07</td>\n",
       "      <td>33.01</td>\n",
       "      <td>12.43</td>\n",
       "      <td>154.90</td>\n",
       "    </tr>\n",
       "    <tr>\n",
       "      <th>Game Boy (GB)</th>\n",
       "      <td>43.18</td>\n",
       "      <td>40.05</td>\n",
       "      <td>32.47</td>\n",
       "      <td>2.99</td>\n",
       "      <td>118.69</td>\n",
       "    </tr>\n",
       "    <tr>\n",
       "      <th>PlayStation 4 (PS4)</th>\n",
       "      <td>38.14</td>\n",
       "      <td>48.09</td>\n",
       "      <td>9.36</td>\n",
       "      <td>19.99</td>\n",
       "      <td>115.58</td>\n",
       "    </tr>\n",
       "    <tr>\n",
       "      <th>PlayStation (PS)</th>\n",
       "      <td>40.78</td>\n",
       "      <td>31.09</td>\n",
       "      <td>21.59</td>\n",
       "      <td>9.04</td>\n",
       "      <td>102.50</td>\n",
       "    </tr>\n",
       "  </tbody>\n",
       "</table>\n",
       "</div>"
      ],
      "text/plain": [
       "                     North America  Europe  Japan  Rest of World  Global\n",
       "Platform                                                                \n",
       "PlayStation 2 (PS2)          53.65   55.28  23.18          25.57  157.68\n",
       "Nintendo DS (DS)             57.39   52.07  33.01          12.43  154.90\n",
       "Game Boy (GB)                43.18   40.05  32.47           2.99  118.69\n",
       "PlayStation 4 (PS4)          38.14   48.09   9.36          19.99  115.58\n",
       "PlayStation (PS)             40.78   31.09  21.59           9.04  102.50"
      ]
     },
     "execution_count": 24,
     "metadata": {},
     "output_type": "execute_result"
    }
   ],
   "source": [
    "console_sales.head()"
   ]
  },
  {
   "cell_type": "markdown",
   "metadata": {},
   "source": [
    "Exploring above dataset"
   ]
  },
  {
   "cell_type": "code",
   "execution_count": 25,
   "metadata": {},
   "outputs": [
    {
     "name": "stdout",
     "output_type": "stream",
     "text": [
      "       North America     Europe      Japan  Rest of World      Global\n",
      "count      36.000000  36.000000  36.000000      36.000000   36.000000\n",
      "mean       19.031111  13.562500   8.260000       4.222222   45.075833\n",
      "std        18.294966  16.565696  10.093689       6.374593   47.422795\n",
      "min         0.000000   0.000000   0.000000       0.000000    0.000000\n",
      "25%         2.437500   0.840000   0.037500       0.052500    4.832500\n",
      "50%        16.375000   5.795000   3.455000       0.885000   26.145000\n",
      "75%        32.477500  22.760000  17.012500       6.355000   82.557500\n",
      "max        57.390000  55.280000  33.010000      25.570000  157.680000\n"
     ]
    }
   ],
   "source": [
    "print(console_sales.describe())"
   ]
  },
  {
   "cell_type": "code",
   "execution_count": 26,
   "metadata": {},
   "outputs": [
    {
     "name": "stdout",
     "output_type": "stream",
     "text": [
      "<class 'pandas.core.frame.DataFrame'>\n",
      "Index: 36 entries, PlayStation 2 (PS2) to TurboGrafx-16 (TG16)\n",
      "Data columns (total 5 columns):\n",
      " #   Column         Non-Null Count  Dtype  \n",
      "---  ------         --------------  -----  \n",
      " 0   North America  36 non-null     float64\n",
      " 1   Europe         36 non-null     float64\n",
      " 2   Japan          36 non-null     float64\n",
      " 3   Rest of World  36 non-null     float64\n",
      " 4   Global         36 non-null     float64\n",
      "dtypes: float64(5)\n",
      "memory usage: 1.7+ KB\n",
      "None\n"
     ]
    }
   ],
   "source": [
    "print(console_sales.info())"
   ]
  },
  {
   "cell_type": "code",
   "execution_count": 27,
   "metadata": {},
   "outputs": [
    {
     "data": {
      "text/plain": [
       "(36, 5)"
      ]
     },
     "execution_count": 27,
     "metadata": {},
     "output_type": "execute_result"
    }
   ],
   "source": [
    "console_sales.shape"
   ]
  },
  {
   "cell_type": "markdown",
   "metadata": {},
   "source": [
    "Loading the dataset for video game sales 2020 from Kaggle."
   ]
  },
  {
   "cell_type": "code",
   "execution_count": 28,
   "metadata": {},
   "outputs": [],
   "source": [
    "vgsales = pd.read_csv(\"vgchartz-7_7_2020.csv\")"
   ]
  },
  {
   "cell_type": "code",
   "execution_count": 29,
   "metadata": {},
   "outputs": [
    {
     "data": {
      "text/html": [
       "<div>\n",
       "<style scoped>\n",
       "    .dataframe tbody tr th:only-of-type {\n",
       "        vertical-align: middle;\n",
       "    }\n",
       "\n",
       "    .dataframe tbody tr th {\n",
       "        vertical-align: top;\n",
       "    }\n",
       "\n",
       "    .dataframe thead th {\n",
       "        text-align: right;\n",
       "    }\n",
       "</style>\n",
       "<table border=\"1\" class=\"dataframe\">\n",
       "  <thead>\n",
       "    <tr style=\"text-align: right;\">\n",
       "      <th></th>\n",
       "      <th>Unnamed: 0</th>\n",
       "      <th>img</th>\n",
       "      <th>title</th>\n",
       "      <th>console</th>\n",
       "      <th>genre</th>\n",
       "      <th>publisher</th>\n",
       "      <th>developer</th>\n",
       "      <th>vg_score</th>\n",
       "      <th>critic_score</th>\n",
       "      <th>user_score</th>\n",
       "      <th>total_shipped</th>\n",
       "      <th>total_sales</th>\n",
       "      <th>na_sales</th>\n",
       "      <th>jp_sales</th>\n",
       "      <th>pal_sales</th>\n",
       "      <th>other_sales</th>\n",
       "      <th>release_date</th>\n",
       "      <th>last_update</th>\n",
       "    </tr>\n",
       "  </thead>\n",
       "  <tbody>\n",
       "    <tr>\n",
       "      <th>0</th>\n",
       "      <td>3</td>\n",
       "      <td>/games/boxart/full_3351915AmericaFrontccc.jpg</td>\n",
       "      <td>Warriors</td>\n",
       "      <td>Series</td>\n",
       "      <td>Action</td>\n",
       "      <td>Unknown</td>\n",
       "      <td>Omega Force</td>\n",
       "      <td>NaN</td>\n",
       "      <td>NaN</td>\n",
       "      <td>NaN</td>\n",
       "      <td>42.06</td>\n",
       "      <td>NaN</td>\n",
       "      <td>NaN</td>\n",
       "      <td>NaN</td>\n",
       "      <td>NaN</td>\n",
       "      <td>NaN</td>\n",
       "      <td>NaN</td>\n",
       "      <td>24/03/2020</td>\n",
       "    </tr>\n",
       "    <tr>\n",
       "      <th>1</th>\n",
       "      <td>4</td>\n",
       "      <td>/games/boxart/full_5741036AmericaFrontccc.jpg</td>\n",
       "      <td>God of War</td>\n",
       "      <td>Series</td>\n",
       "      <td>Action</td>\n",
       "      <td>Sony Computer Entertainment</td>\n",
       "      <td>SIE Santa Monica Studio|Ready at Dawn|Javagrou...</td>\n",
       "      <td>NaN</td>\n",
       "      <td>NaN</td>\n",
       "      <td>NaN</td>\n",
       "      <td>35.05</td>\n",
       "      <td>NaN</td>\n",
       "      <td>NaN</td>\n",
       "      <td>NaN</td>\n",
       "      <td>NaN</td>\n",
       "      <td>NaN</td>\n",
       "      <td>22/03/2005</td>\n",
       "      <td>04/03/2020</td>\n",
       "    </tr>\n",
       "    <tr>\n",
       "      <th>2</th>\n",
       "      <td>5</td>\n",
       "      <td>/games/boxart/full_6662824AmericaFrontccc.png</td>\n",
       "      <td>Devil May Cry</td>\n",
       "      <td>Series</td>\n",
       "      <td>Action</td>\n",
       "      <td>Capcom</td>\n",
       "      <td>Capcom|Ninja Theory</td>\n",
       "      <td>NaN</td>\n",
       "      <td>NaN</td>\n",
       "      <td>NaN</td>\n",
       "      <td>22.00</td>\n",
       "      <td>NaN</td>\n",
       "      <td>NaN</td>\n",
       "      <td>NaN</td>\n",
       "      <td>NaN</td>\n",
       "      <td>NaN</td>\n",
       "      <td>16/10/2001</td>\n",
       "      <td>03/02/2020</td>\n",
       "    </tr>\n",
       "    <tr>\n",
       "      <th>3</th>\n",
       "      <td>6</td>\n",
       "      <td>/games/boxart/full_6510540AmericaFrontccc.jpg</td>\n",
       "      <td>Grand Theft Auto V</td>\n",
       "      <td>PS3</td>\n",
       "      <td>Action</td>\n",
       "      <td>Rockstar Games</td>\n",
       "      <td>Rockstar North</td>\n",
       "      <td>NaN</td>\n",
       "      <td>9.4</td>\n",
       "      <td>NaN</td>\n",
       "      <td>NaN</td>\n",
       "      <td>20.32</td>\n",
       "      <td>6.37</td>\n",
       "      <td>0.99</td>\n",
       "      <td>9.85</td>\n",
       "      <td>3.12</td>\n",
       "      <td>17/09/2013</td>\n",
       "      <td>NaN</td>\n",
       "    </tr>\n",
       "    <tr>\n",
       "      <th>4</th>\n",
       "      <td>7</td>\n",
       "      <td>/games/boxart/full_6800951AmericaFrontccc.jpg</td>\n",
       "      <td>Frogger</td>\n",
       "      <td>Series</td>\n",
       "      <td>Action</td>\n",
       "      <td>Konami</td>\n",
       "      <td>Konami|Parker Brothers|SCE Cambridge Studio|Bl...</td>\n",
       "      <td>NaN</td>\n",
       "      <td>NaN</td>\n",
       "      <td>NaN</td>\n",
       "      <td>20.00</td>\n",
       "      <td>NaN</td>\n",
       "      <td>NaN</td>\n",
       "      <td>NaN</td>\n",
       "      <td>NaN</td>\n",
       "      <td>NaN</td>\n",
       "      <td>23/10/1981</td>\n",
       "      <td>26/02/2020</td>\n",
       "    </tr>\n",
       "  </tbody>\n",
       "</table>\n",
       "</div>"
      ],
      "text/plain": [
       "   Unnamed: 0                                            img  \\\n",
       "0           3  /games/boxart/full_3351915AmericaFrontccc.jpg   \n",
       "1           4  /games/boxart/full_5741036AmericaFrontccc.jpg   \n",
       "2           5  /games/boxart/full_6662824AmericaFrontccc.png   \n",
       "3           6  /games/boxart/full_6510540AmericaFrontccc.jpg   \n",
       "4           7  /games/boxart/full_6800951AmericaFrontccc.jpg   \n",
       "\n",
       "                title console   genre                    publisher  \\\n",
       "0            Warriors  Series  Action                      Unknown   \n",
       "1          God of War  Series  Action  Sony Computer Entertainment   \n",
       "2       Devil May Cry  Series  Action                       Capcom   \n",
       "3  Grand Theft Auto V     PS3  Action               Rockstar Games   \n",
       "4             Frogger  Series  Action                       Konami   \n",
       "\n",
       "                                           developer  vg_score  critic_score  \\\n",
       "0                                        Omega Force       NaN           NaN   \n",
       "1  SIE Santa Monica Studio|Ready at Dawn|Javagrou...       NaN           NaN   \n",
       "2                                Capcom|Ninja Theory       NaN           NaN   \n",
       "3                                     Rockstar North       NaN           9.4   \n",
       "4  Konami|Parker Brothers|SCE Cambridge Studio|Bl...       NaN           NaN   \n",
       "\n",
       "   user_score  total_shipped  total_sales  na_sales  jp_sales  pal_sales  \\\n",
       "0         NaN          42.06          NaN       NaN       NaN        NaN   \n",
       "1         NaN          35.05          NaN       NaN       NaN        NaN   \n",
       "2         NaN          22.00          NaN       NaN       NaN        NaN   \n",
       "3         NaN            NaN        20.32      6.37      0.99       9.85   \n",
       "4         NaN          20.00          NaN       NaN       NaN        NaN   \n",
       "\n",
       "   other_sales release_date last_update  \n",
       "0          NaN          NaN  24/03/2020  \n",
       "1          NaN   22/03/2005  04/03/2020  \n",
       "2          NaN   16/10/2001  03/02/2020  \n",
       "3         3.12   17/09/2013         NaN  \n",
       "4          NaN   23/10/1981  26/02/2020  "
      ]
     },
     "execution_count": 29,
     "metadata": {},
     "output_type": "execute_result"
    }
   ],
   "source": [
    "vgsales.head()"
   ]
  },
  {
   "cell_type": "markdown",
   "metadata": {},
   "source": [
    "Renaming the columns"
   ]
  },
  {
   "cell_type": "code",
   "execution_count": 30,
   "metadata": {},
   "outputs": [],
   "source": [
    "vgsales.columns = [\"Unused\", \"img\", \"Name\", \"Platform\", \"Genre\", \"Publisher\", \"Developer\", \"VG_Score\", \"Critic_Score\", \"User_Score\", \"Total_Shipped\", \"Total_Sales\", \"NA_Sales\", \"JP_Sales\", \"EU_Sales\", \"Other_Sales\", \"Release_Date\", \"Last_Update\"]"
   ]
  },
  {
   "cell_type": "markdown",
   "metadata": {},
   "source": [
    "Define a custom function"
   ]
  },
  {
   "cell_type": "code",
   "execution_count": 31,
   "metadata": {},
   "outputs": [],
   "source": [
    "def cust_func():\n",
    "    print(\"There are \" + str(vgsales.shape[0]) + \" rows and \" + str(vgsales.shape[1]) + \" columns.\")\n",
    "    return vgsales.shape"
   ]
  },
  {
   "cell_type": "code",
   "execution_count": 32,
   "metadata": {},
   "outputs": [
    {
     "name": "stdout",
     "output_type": "stream",
     "text": [
      "There are 57950 rows and 18 columns.\n",
      "(57950, 18)\n"
     ]
    }
   ],
   "source": [
    "print(cust_func())"
   ]
  },
  {
   "cell_type": "code",
   "execution_count": 33,
   "metadata": {},
   "outputs": [
    {
     "name": "stdout",
     "output_type": "stream",
     "text": [
      "<class 'pandas.core.frame.DataFrame'>\n",
      "RangeIndex: 57950 entries, 0 to 57949\n",
      "Data columns (total 18 columns):\n",
      " #   Column         Non-Null Count  Dtype  \n",
      "---  ------         --------------  -----  \n",
      " 0   Unused         57950 non-null  int64  \n",
      " 1   img            57950 non-null  object \n",
      " 2   Name           57950 non-null  object \n",
      " 3   Platform       57950 non-null  object \n",
      " 4   Genre          57950 non-null  object \n",
      " 5   Publisher      57950 non-null  object \n",
      " 6   Developer      57933 non-null  object \n",
      " 7   VG_Score       984 non-null    float64\n",
      " 8   Critic_Score   6544 non-null   float64\n",
      " 9   User_Score     386 non-null    float64\n",
      " 10  Total_Shipped  2373 non-null   float64\n",
      " 11  Total_Sales    19319 non-null  float64\n",
      " 12  NA_Sales       12900 non-null  float64\n",
      " 13  JP_Sales       6993 non-null   float64\n",
      " 14  EU_Sales       13111 non-null  float64\n",
      " 15  Other_Sales    15440 non-null  float64\n",
      " 16  Release_Date   54296 non-null  object \n",
      " 17  Last_Update    11763 non-null  object \n",
      "dtypes: float64(9), int64(1), object(8)\n",
      "memory usage: 8.0+ MB\n"
     ]
    }
   ],
   "source": [
    "vgsales.info()"
   ]
  },
  {
   "cell_type": "code",
   "execution_count": 34,
   "metadata": {},
   "outputs": [
    {
     "data": {
      "text/plain": [
       "array(['Series', 'PS3', 'PS4', 'PS2', 'X360', 'PC', 'XOne', 'PSP', 'PS',\n",
       "       'Wii', 'DS', '3DS', 'NES', 'GC', 'WiiU', 'XB', 'N64', 'GEN',\n",
       "       '2600', 'GBA', 'GB', 'PSV', 'SNES', 'DC', 'NS', 'SAT', 'XBL',\n",
       "       'PSN', 'And', 'DSiW', 'OSX', 'Lynx', 'SCD', 'Linux', 'MS', 'WW',\n",
       "       'ZXS', 'ACPC', 'Amig', '7800', 'VC', 'GG', 'DSi', 'PCE', '5200',\n",
       "       'AJ', 'WinP', 'Mob', 'iQue', 'iOS', 'WS', 'NG', 'GIZ', '3DO', 'VB',\n",
       "       'GBC', 'Ouya', 'NGage', 'AST', 'MSD', 'S32X', 'PCFX', 'Int', 'XSX',\n",
       "       'PS5', 'C128', 'CDi', 'CD32', 'Arc', 'C64', 'BRW', 'FMT', 'MSX',\n",
       "       'BBCM', 'ApII', 'Aco', 'TG16'], dtype=object)"
      ]
     },
     "execution_count": 34,
     "metadata": {},
     "output_type": "execute_result"
    }
   ],
   "source": [
    "vgsales[\"Platform\"].unique()"
   ]
  },
  {
   "cell_type": "markdown",
   "metadata": {},
   "source": [
    "Subsetting data on popular platforms released from 2000-2020 only"
   ]
  },
  {
   "cell_type": "code",
   "execution_count": 35,
   "metadata": {},
   "outputs": [],
   "source": [
    "vgsales = vgsales.set_index([\"Platform\"])"
   ]
  },
  {
   "cell_type": "code",
   "execution_count": 36,
   "metadata": {},
   "outputs": [],
   "source": [
    "vgsales = vgsales.loc[[\"PS2\", \"PS3\", \"PS4\", \"PS5\", \"PSP\", \"PSV\", \"PSN\", \"GC\", \"XB\", \"XBL\", \"X360\", \"XOne\", \"XSX\", \"DS\", \"3DS\", \"NS\", \"Wii\", \"WiiU\"]]"
   ]
  },
  {
   "cell_type": "markdown",
   "metadata": {},
   "source": [
    "Slicing dataset and replace missing values"
   ]
  },
  {
   "cell_type": "code",
   "execution_count": 37,
   "metadata": {},
   "outputs": [],
   "source": [
    "vgsales = vgsales.loc[:, \"Name\":\"Release_Date\"]"
   ]
  },
  {
   "cell_type": "code",
   "execution_count": 38,
   "metadata": {},
   "outputs": [],
   "source": [
    "del(vgsales[\"Total_Shipped\"])"
   ]
  },
  {
   "cell_type": "code",
   "execution_count": 39,
   "metadata": {},
   "outputs": [],
   "source": [
    "del(vgsales[\"VG_Score\"])"
   ]
  },
  {
   "cell_type": "code",
   "execution_count": 40,
   "metadata": {},
   "outputs": [],
   "source": [
    "del(vgsales[\"Developer\"])"
   ]
  },
  {
   "cell_type": "code",
   "execution_count": 41,
   "metadata": {},
   "outputs": [
    {
     "data": {
      "text/html": [
       "<div>\n",
       "<style scoped>\n",
       "    .dataframe tbody tr th:only-of-type {\n",
       "        vertical-align: middle;\n",
       "    }\n",
       "\n",
       "    .dataframe tbody tr th {\n",
       "        vertical-align: top;\n",
       "    }\n",
       "\n",
       "    .dataframe thead th {\n",
       "        text-align: right;\n",
       "    }\n",
       "</style>\n",
       "<table border=\"1\" class=\"dataframe\">\n",
       "  <thead>\n",
       "    <tr style=\"text-align: right;\">\n",
       "      <th></th>\n",
       "      <th>Name</th>\n",
       "      <th>Genre</th>\n",
       "      <th>Publisher</th>\n",
       "      <th>Critic_Score</th>\n",
       "      <th>User_Score</th>\n",
       "      <th>Total_Sales</th>\n",
       "      <th>NA_Sales</th>\n",
       "      <th>JP_Sales</th>\n",
       "      <th>EU_Sales</th>\n",
       "      <th>Other_Sales</th>\n",
       "      <th>Release_Date</th>\n",
       "    </tr>\n",
       "    <tr>\n",
       "      <th>Platform</th>\n",
       "      <th></th>\n",
       "      <th></th>\n",
       "      <th></th>\n",
       "      <th></th>\n",
       "      <th></th>\n",
       "      <th></th>\n",
       "      <th></th>\n",
       "      <th></th>\n",
       "      <th></th>\n",
       "      <th></th>\n",
       "      <th></th>\n",
       "    </tr>\n",
       "  </thead>\n",
       "  <tbody>\n",
       "    <tr>\n",
       "      <th>PS2</th>\n",
       "      <td>Grand Theft Auto: San Andreas</td>\n",
       "      <td>Action</td>\n",
       "      <td>Rockstar Games</td>\n",
       "      <td>9.5</td>\n",
       "      <td>NaN</td>\n",
       "      <td>NaN</td>\n",
       "      <td>NaN</td>\n",
       "      <td>NaN</td>\n",
       "      <td>NaN</td>\n",
       "      <td>NaN</td>\n",
       "      <td>26/10/2004</td>\n",
       "    </tr>\n",
       "    <tr>\n",
       "      <th>PS2</th>\n",
       "      <td>Grand Theft Auto: Vice City</td>\n",
       "      <td>Action</td>\n",
       "      <td>Rockstar Games</td>\n",
       "      <td>9.6</td>\n",
       "      <td>NaN</td>\n",
       "      <td>16.15</td>\n",
       "      <td>8.41</td>\n",
       "      <td>0.47</td>\n",
       "      <td>5.49</td>\n",
       "      <td>1.78</td>\n",
       "      <td>28/10/2002</td>\n",
       "    </tr>\n",
       "    <tr>\n",
       "      <th>PS2</th>\n",
       "      <td>Grand Theft Auto III</td>\n",
       "      <td>Action</td>\n",
       "      <td>Rockstar Games</td>\n",
       "      <td>9.5</td>\n",
       "      <td>NaN</td>\n",
       "      <td>13.10</td>\n",
       "      <td>6.99</td>\n",
       "      <td>0.30</td>\n",
       "      <td>4.51</td>\n",
       "      <td>1.30</td>\n",
       "      <td>23/10/2001</td>\n",
       "    </tr>\n",
       "    <tr>\n",
       "      <th>PS2</th>\n",
       "      <td>Metal Gear Solid 2: Sons of Liberty</td>\n",
       "      <td>Action</td>\n",
       "      <td>Konami</td>\n",
       "      <td>9.5</td>\n",
       "      <td>7.0</td>\n",
       "      <td>6.05</td>\n",
       "      <td>2.45</td>\n",
       "      <td>0.87</td>\n",
       "      <td>2.01</td>\n",
       "      <td>0.72</td>\n",
       "      <td>12/11/2001</td>\n",
       "    </tr>\n",
       "    <tr>\n",
       "      <th>PS2</th>\n",
       "      <td>The Lord of the Rings: The Two Towers</td>\n",
       "      <td>Action</td>\n",
       "      <td>Electronic Arts</td>\n",
       "      <td>8.3</td>\n",
       "      <td>NaN</td>\n",
       "      <td>4.67</td>\n",
       "      <td>1.94</td>\n",
       "      <td>0.08</td>\n",
       "      <td>1.95</td>\n",
       "      <td>0.70</td>\n",
       "      <td>21/10/2002</td>\n",
       "    </tr>\n",
       "  </tbody>\n",
       "</table>\n",
       "</div>"
      ],
      "text/plain": [
       "                                           Name   Genre        Publisher  \\\n",
       "Platform                                                                   \n",
       "PS2               Grand Theft Auto: San Andreas  Action   Rockstar Games   \n",
       "PS2                 Grand Theft Auto: Vice City  Action   Rockstar Games   \n",
       "PS2                        Grand Theft Auto III  Action   Rockstar Games   \n",
       "PS2         Metal Gear Solid 2: Sons of Liberty  Action           Konami   \n",
       "PS2       The Lord of the Rings: The Two Towers  Action  Electronic Arts   \n",
       "\n",
       "          Critic_Score  User_Score  Total_Sales  NA_Sales  JP_Sales  EU_Sales  \\\n",
       "Platform                                                                        \n",
       "PS2                9.5         NaN          NaN       NaN       NaN       NaN   \n",
       "PS2                9.6         NaN        16.15      8.41      0.47      5.49   \n",
       "PS2                9.5         NaN        13.10      6.99      0.30      4.51   \n",
       "PS2                9.5         7.0         6.05      2.45      0.87      2.01   \n",
       "PS2                8.3         NaN         4.67      1.94      0.08      1.95   \n",
       "\n",
       "          Other_Sales Release_Date  \n",
       "Platform                            \n",
       "PS2               NaN   26/10/2004  \n",
       "PS2              1.78   28/10/2002  \n",
       "PS2              1.30   23/10/2001  \n",
       "PS2              0.72   12/11/2001  \n",
       "PS2              0.70   21/10/2002  "
      ]
     },
     "execution_count": 41,
     "metadata": {},
     "output_type": "execute_result"
    }
   ],
   "source": [
    "vgsales.head()"
   ]
  },
  {
   "cell_type": "code",
   "execution_count": 42,
   "metadata": {},
   "outputs": [
    {
     "name": "stdout",
     "output_type": "stream",
     "text": [
      "There are 27615 rows and 11 columns.\n",
      "(27615, 11)\n"
     ]
    }
   ],
   "source": [
    "print(cust_func())"
   ]
  },
  {
   "cell_type": "markdown",
   "metadata": {},
   "source": [
    "Checking for and filling in missing values"
   ]
  },
  {
   "cell_type": "code",
   "execution_count": 43,
   "metadata": {},
   "outputs": [
    {
     "data": {
      "text/plain": [
       "Name                0\n",
       "Genre               0\n",
       "Publisher           0\n",
       "Critic_Score    23272\n",
       "User_Score      27298\n",
       "Total_Sales     13006\n",
       "NA_Sales        17353\n",
       "JP_Sales        21775\n",
       "EU_Sales        18264\n",
       "Other_Sales     16446\n",
       "Release_Date     1775\n",
       "dtype: int64"
      ]
     },
     "execution_count": 43,
     "metadata": {},
     "output_type": "execute_result"
    }
   ],
   "source": [
    "vgsales.isna().sum()"
   ]
  },
  {
   "cell_type": "markdown",
   "metadata": {},
   "source": [
    "Make a bar chart on missing values"
   ]
  },
  {
   "cell_type": "code",
   "execution_count": 44,
   "metadata": {},
   "outputs": [
    {
     "data": {
      "text/plain": [
       "<AxesSubplot:>"
      ]
     },
     "execution_count": 44,
     "metadata": {},
     "output_type": "execute_result"
    },
    {
     "data": {
      "image/png": "[encoded data removed]",
      "text/plain": [
       "<Figure size 432x288 with 1 Axes>"
      ]
     },
     "metadata": {
      "needs_background": "light"
     },
     "output_type": "display_data"
    }
   ],
   "source": [
    "vgsales.isna().sum().plot(kind=\"bar\")"
   ]
  },
  {
   "cell_type": "code",
   "execution_count": 45,
   "metadata": {},
   "outputs": [],
   "source": [
    "vgsales_final = vgsales.dropna(subset=[\"Release_Date\"])"
   ]
  },
  {
   "cell_type": "code",
   "execution_count": 46,
   "metadata": {},
   "outputs": [],
   "source": [
    "vgsales_final = vgsales_final.drop_duplicates()"
   ]
  },
  {
   "cell_type": "code",
   "execution_count": 47,
   "metadata": {},
   "outputs": [
    {
     "data": {
      "text/plain": [
       "Critic_Score    7.200694\n",
       "User_Score      8.259804\n",
       "Total_Sales     0.384281\n",
       "NA_Sales        0.276100\n",
       "JP_Sales        0.079972\n",
       "EU_Sales        0.175754\n",
       "Other_Sales     0.056413\n",
       "dtype: float64"
      ]
     },
     "execution_count": 47,
     "metadata": {},
     "output_type": "execute_result"
    }
   ],
   "source": [
    "vgsales_final.mean()"
   ]
  },
  {
   "cell_type": "code",
   "execution_count": 48,
   "metadata": {},
   "outputs": [],
   "source": [
    "vgsales_final = vgsales_final.fillna({\"Critic_Score\":7.2, \"User_Score\":8.3, \"NA_Sales\":0.3, \"JP_Sales\":0.1, \"EU_Sales\":0.2, \"Other_Sales\":0.1})"
   ]
  },
  {
   "cell_type": "code",
   "execution_count": 49,
   "metadata": {},
   "outputs": [
    {
     "data": {
      "text/plain": [
       "Name                0\n",
       "Genre               0\n",
       "Publisher           0\n",
       "Critic_Score        0\n",
       "User_Score          0\n",
       "Total_Sales     10203\n",
       "NA_Sales            0\n",
       "JP_Sales            0\n",
       "EU_Sales            0\n",
       "Other_Sales         0\n",
       "Release_Date        0\n",
       "dtype: int64"
      ]
     },
     "execution_count": 49,
     "metadata": {},
     "output_type": "execute_result"
    }
   ],
   "source": [
    "vgsales_final.isna().sum()"
   ]
  },
  {
   "cell_type": "code",
   "execution_count": 50,
   "metadata": {},
   "outputs": [
    {
     "data": {
      "text/html": [
       "<div>\n",
       "<style scoped>\n",
       "    .dataframe tbody tr th:only-of-type {\n",
       "        vertical-align: middle;\n",
       "    }\n",
       "\n",
       "    .dataframe tbody tr th {\n",
       "        vertical-align: top;\n",
       "    }\n",
       "\n",
       "    .dataframe thead th {\n",
       "        text-align: right;\n",
       "    }\n",
       "</style>\n",
       "<table border=\"1\" class=\"dataframe\">\n",
       "  <thead>\n",
       "    <tr style=\"text-align: right;\">\n",
       "      <th></th>\n",
       "      <th>Name</th>\n",
       "      <th>Genre</th>\n",
       "      <th>Publisher</th>\n",
       "      <th>Critic_Score</th>\n",
       "      <th>User_Score</th>\n",
       "      <th>Total_Sales</th>\n",
       "      <th>NA_Sales</th>\n",
       "      <th>JP_Sales</th>\n",
       "      <th>EU_Sales</th>\n",
       "      <th>Other_Sales</th>\n",
       "      <th>Release_Date</th>\n",
       "    </tr>\n",
       "    <tr>\n",
       "      <th>Platform</th>\n",
       "      <th></th>\n",
       "      <th></th>\n",
       "      <th></th>\n",
       "      <th></th>\n",
       "      <th></th>\n",
       "      <th></th>\n",
       "      <th></th>\n",
       "      <th></th>\n",
       "      <th></th>\n",
       "      <th></th>\n",
       "      <th></th>\n",
       "    </tr>\n",
       "  </thead>\n",
       "  <tbody>\n",
       "    <tr>\n",
       "      <th>PS2</th>\n",
       "      <td>Grand Theft Auto: San Andreas</td>\n",
       "      <td>Action</td>\n",
       "      <td>Rockstar Games</td>\n",
       "      <td>9.5</td>\n",
       "      <td>8.3</td>\n",
       "      <td>NaN</td>\n",
       "      <td>0.30</td>\n",
       "      <td>0.10</td>\n",
       "      <td>0.20</td>\n",
       "      <td>0.10</td>\n",
       "      <td>26/10/2004</td>\n",
       "    </tr>\n",
       "    <tr>\n",
       "      <th>PS2</th>\n",
       "      <td>Grand Theft Auto: Vice City</td>\n",
       "      <td>Action</td>\n",
       "      <td>Rockstar Games</td>\n",
       "      <td>9.6</td>\n",
       "      <td>8.3</td>\n",
       "      <td>16.15</td>\n",
       "      <td>8.41</td>\n",
       "      <td>0.47</td>\n",
       "      <td>5.49</td>\n",
       "      <td>1.78</td>\n",
       "      <td>28/10/2002</td>\n",
       "    </tr>\n",
       "    <tr>\n",
       "      <th>PS2</th>\n",
       "      <td>Grand Theft Auto III</td>\n",
       "      <td>Action</td>\n",
       "      <td>Rockstar Games</td>\n",
       "      <td>9.5</td>\n",
       "      <td>8.3</td>\n",
       "      <td>13.10</td>\n",
       "      <td>6.99</td>\n",
       "      <td>0.30</td>\n",
       "      <td>4.51</td>\n",
       "      <td>1.30</td>\n",
       "      <td>23/10/2001</td>\n",
       "    </tr>\n",
       "    <tr>\n",
       "      <th>PS2</th>\n",
       "      <td>Metal Gear Solid 2: Sons of Liberty</td>\n",
       "      <td>Action</td>\n",
       "      <td>Konami</td>\n",
       "      <td>9.5</td>\n",
       "      <td>7.0</td>\n",
       "      <td>6.05</td>\n",
       "      <td>2.45</td>\n",
       "      <td>0.87</td>\n",
       "      <td>2.01</td>\n",
       "      <td>0.72</td>\n",
       "      <td>12/11/2001</td>\n",
       "    </tr>\n",
       "    <tr>\n",
       "      <th>PS2</th>\n",
       "      <td>The Lord of the Rings: The Two Towers</td>\n",
       "      <td>Action</td>\n",
       "      <td>Electronic Arts</td>\n",
       "      <td>8.3</td>\n",
       "      <td>8.3</td>\n",
       "      <td>4.67</td>\n",
       "      <td>1.94</td>\n",
       "      <td>0.08</td>\n",
       "      <td>1.95</td>\n",
       "      <td>0.70</td>\n",
       "      <td>21/10/2002</td>\n",
       "    </tr>\n",
       "  </tbody>\n",
       "</table>\n",
       "</div>"
      ],
      "text/plain": [
       "                                           Name   Genre        Publisher  \\\n",
       "Platform                                                                   \n",
       "PS2               Grand Theft Auto: San Andreas  Action   Rockstar Games   \n",
       "PS2                 Grand Theft Auto: Vice City  Action   Rockstar Games   \n",
       "PS2                        Grand Theft Auto III  Action   Rockstar Games   \n",
       "PS2         Metal Gear Solid 2: Sons of Liberty  Action           Konami   \n",
       "PS2       The Lord of the Rings: The Two Towers  Action  Electronic Arts   \n",
       "\n",
       "          Critic_Score  User_Score  Total_Sales  NA_Sales  JP_Sales  EU_Sales  \\\n",
       "Platform                                                                        \n",
       "PS2                9.5         8.3          NaN      0.30      0.10      0.20   \n",
       "PS2                9.6         8.3        16.15      8.41      0.47      5.49   \n",
       "PS2                9.5         8.3        13.10      6.99      0.30      4.51   \n",
       "PS2                9.5         7.0         6.05      2.45      0.87      2.01   \n",
       "PS2                8.3         8.3         4.67      1.94      0.08      1.95   \n",
       "\n",
       "          Other_Sales Release_Date  \n",
       "Platform                            \n",
       "PS2              0.10   26/10/2004  \n",
       "PS2              1.78   28/10/2002  \n",
       "PS2              1.30   23/10/2001  \n",
       "PS2              0.72   12/11/2001  \n",
       "PS2              0.70   21/10/2002  "
      ]
     },
     "execution_count": 50,
     "metadata": {},
     "output_type": "execute_result"
    }
   ],
   "source": [
    "vgsales_final.head()"
   ]
  },
  {
   "cell_type": "code",
   "execution_count": 51,
   "metadata": {},
   "outputs": [],
   "source": [
    "vgsales_final = vgsales_final.reset_index()"
   ]
  },
  {
   "cell_type": "code",
   "execution_count": 52,
   "metadata": {},
   "outputs": [
    {
     "data": {
      "text/html": [
       "<div>\n",
       "<style scoped>\n",
       "    .dataframe tbody tr th:only-of-type {\n",
       "        vertical-align: middle;\n",
       "    }\n",
       "\n",
       "    .dataframe tbody tr th {\n",
       "        vertical-align: top;\n",
       "    }\n",
       "\n",
       "    .dataframe thead th {\n",
       "        text-align: right;\n",
       "    }\n",
       "</style>\n",
       "<table border=\"1\" class=\"dataframe\">\n",
       "  <thead>\n",
       "    <tr style=\"text-align: right;\">\n",
       "      <th></th>\n",
       "      <th>Platform</th>\n",
       "      <th>Name</th>\n",
       "      <th>Genre</th>\n",
       "      <th>Publisher</th>\n",
       "      <th>Critic_Score</th>\n",
       "      <th>User_Score</th>\n",
       "      <th>Total_Sales</th>\n",
       "      <th>NA_Sales</th>\n",
       "      <th>JP_Sales</th>\n",
       "      <th>EU_Sales</th>\n",
       "      <th>Other_Sales</th>\n",
       "      <th>Release_Date</th>\n",
       "    </tr>\n",
       "  </thead>\n",
       "  <tbody>\n",
       "    <tr>\n",
       "      <th>0</th>\n",
       "      <td>PS2</td>\n",
       "      <td>Grand Theft Auto: San Andreas</td>\n",
       "      <td>Action</td>\n",
       "      <td>Rockstar Games</td>\n",
       "      <td>9.5</td>\n",
       "      <td>8.3</td>\n",
       "      <td>NaN</td>\n",
       "      <td>0.30</td>\n",
       "      <td>0.10</td>\n",
       "      <td>0.20</td>\n",
       "      <td>0.10</td>\n",
       "      <td>26/10/2004</td>\n",
       "    </tr>\n",
       "    <tr>\n",
       "      <th>1</th>\n",
       "      <td>PS2</td>\n",
       "      <td>Grand Theft Auto: Vice City</td>\n",
       "      <td>Action</td>\n",
       "      <td>Rockstar Games</td>\n",
       "      <td>9.6</td>\n",
       "      <td>8.3</td>\n",
       "      <td>16.15</td>\n",
       "      <td>8.41</td>\n",
       "      <td>0.47</td>\n",
       "      <td>5.49</td>\n",
       "      <td>1.78</td>\n",
       "      <td>28/10/2002</td>\n",
       "    </tr>\n",
       "    <tr>\n",
       "      <th>2</th>\n",
       "      <td>PS2</td>\n",
       "      <td>Grand Theft Auto III</td>\n",
       "      <td>Action</td>\n",
       "      <td>Rockstar Games</td>\n",
       "      <td>9.5</td>\n",
       "      <td>8.3</td>\n",
       "      <td>13.10</td>\n",
       "      <td>6.99</td>\n",
       "      <td>0.30</td>\n",
       "      <td>4.51</td>\n",
       "      <td>1.30</td>\n",
       "      <td>23/10/2001</td>\n",
       "    </tr>\n",
       "    <tr>\n",
       "      <th>3</th>\n",
       "      <td>PS2</td>\n",
       "      <td>Metal Gear Solid 2: Sons of Liberty</td>\n",
       "      <td>Action</td>\n",
       "      <td>Konami</td>\n",
       "      <td>9.5</td>\n",
       "      <td>7.0</td>\n",
       "      <td>6.05</td>\n",
       "      <td>2.45</td>\n",
       "      <td>0.87</td>\n",
       "      <td>2.01</td>\n",
       "      <td>0.72</td>\n",
       "      <td>12/11/2001</td>\n",
       "    </tr>\n",
       "    <tr>\n",
       "      <th>4</th>\n",
       "      <td>PS2</td>\n",
       "      <td>The Lord of the Rings: The Two Towers</td>\n",
       "      <td>Action</td>\n",
       "      <td>Electronic Arts</td>\n",
       "      <td>8.3</td>\n",
       "      <td>8.3</td>\n",
       "      <td>4.67</td>\n",
       "      <td>1.94</td>\n",
       "      <td>0.08</td>\n",
       "      <td>1.95</td>\n",
       "      <td>0.70</td>\n",
       "      <td>21/10/2002</td>\n",
       "    </tr>\n",
       "  </tbody>\n",
       "</table>\n",
       "</div>"
      ],
      "text/plain": [
       "  Platform                                   Name   Genre        Publisher  \\\n",
       "0      PS2          Grand Theft Auto: San Andreas  Action   Rockstar Games   \n",
       "1      PS2            Grand Theft Auto: Vice City  Action   Rockstar Games   \n",
       "2      PS2                   Grand Theft Auto III  Action   Rockstar Games   \n",
       "3      PS2    Metal Gear Solid 2: Sons of Liberty  Action           Konami   \n",
       "4      PS2  The Lord of the Rings: The Two Towers  Action  Electronic Arts   \n",
       "\n",
       "   Critic_Score  User_Score  Total_Sales  NA_Sales  JP_Sales  EU_Sales  \\\n",
       "0           9.5         8.3          NaN      0.30      0.10      0.20   \n",
       "1           9.6         8.3        16.15      8.41      0.47      5.49   \n",
       "2           9.5         8.3        13.10      6.99      0.30      4.51   \n",
       "3           9.5         7.0         6.05      2.45      0.87      2.01   \n",
       "4           8.3         8.3         4.67      1.94      0.08      1.95   \n",
       "\n",
       "   Other_Sales Release_Date  \n",
       "0         0.10   26/10/2004  \n",
       "1         1.78   28/10/2002  \n",
       "2         1.30   23/10/2001  \n",
       "3         0.72   12/11/2001  \n",
       "4         0.70   21/10/2002  "
      ]
     },
     "execution_count": 52,
     "metadata": {},
     "output_type": "execute_result"
    }
   ],
   "source": [
    "vgsales_final.head()"
   ]
  },
  {
   "cell_type": "code",
   "execution_count": 53,
   "metadata": {},
   "outputs": [
    {
     "data": {
      "text/plain": [
       "(24601, 12)"
      ]
     },
     "execution_count": 53,
     "metadata": {},
     "output_type": "execute_result"
    }
   ],
   "source": [
    "vgsales_final.shape"
   ]
  },
  {
   "cell_type": "markdown",
   "metadata": {},
   "source": [
    "Loading third dataset for merging with second dataset"
   ]
  },
  {
   "cell_type": "code",
   "execution_count": 54,
   "metadata": {},
   "outputs": [],
   "source": [
    "games_sales = pd.read_csv(\"Video_Games.csv\")"
   ]
  },
  {
   "cell_type": "code",
   "execution_count": 55,
   "metadata": {},
   "outputs": [
    {
     "data": {
      "text/html": [
       "<div>\n",
       "<style scoped>\n",
       "    .dataframe tbody tr th:only-of-type {\n",
       "        vertical-align: middle;\n",
       "    }\n",
       "\n",
       "    .dataframe tbody tr th {\n",
       "        vertical-align: top;\n",
       "    }\n",
       "\n",
       "    .dataframe thead th {\n",
       "        text-align: right;\n",
       "    }\n",
       "</style>\n",
       "<table border=\"1\" class=\"dataframe\">\n",
       "  <thead>\n",
       "    <tr style=\"text-align: right;\">\n",
       "      <th></th>\n",
       "      <th>Name</th>\n",
       "      <th>Platform</th>\n",
       "      <th>Year_of_Release</th>\n",
       "      <th>Genre</th>\n",
       "      <th>Publisher</th>\n",
       "      <th>NA_Sales</th>\n",
       "      <th>EU_Sales</th>\n",
       "      <th>JP_Sales</th>\n",
       "      <th>Other_Sales</th>\n",
       "      <th>Global_Sales</th>\n",
       "      <th>Critic_Score</th>\n",
       "      <th>Critic_Count</th>\n",
       "      <th>User_Score</th>\n",
       "      <th>User_Count</th>\n",
       "      <th>Developer</th>\n",
       "      <th>Rating</th>\n",
       "    </tr>\n",
       "  </thead>\n",
       "  <tbody>\n",
       "    <tr>\n",
       "      <th>0</th>\n",
       "      <td>Wii Sports</td>\n",
       "      <td>Wii</td>\n",
       "      <td>2006.0</td>\n",
       "      <td>Sports</td>\n",
       "      <td>Nintendo</td>\n",
       "      <td>41.36</td>\n",
       "      <td>28.96</td>\n",
       "      <td>3.77</td>\n",
       "      <td>8.45</td>\n",
       "      <td>82.53</td>\n",
       "      <td>76.0</td>\n",
       "      <td>51.0</td>\n",
       "      <td>8</td>\n",
       "      <td>322.0</td>\n",
       "      <td>Nintendo</td>\n",
       "      <td>E</td>\n",
       "    </tr>\n",
       "    <tr>\n",
       "      <th>1</th>\n",
       "      <td>Super Mario Bros.</td>\n",
       "      <td>NES</td>\n",
       "      <td>1985.0</td>\n",
       "      <td>Platform</td>\n",
       "      <td>Nintendo</td>\n",
       "      <td>29.08</td>\n",
       "      <td>3.58</td>\n",
       "      <td>6.81</td>\n",
       "      <td>0.77</td>\n",
       "      <td>40.24</td>\n",
       "      <td>NaN</td>\n",
       "      <td>NaN</td>\n",
       "      <td>NaN</td>\n",
       "      <td>NaN</td>\n",
       "      <td>NaN</td>\n",
       "      <td>NaN</td>\n",
       "    </tr>\n",
       "    <tr>\n",
       "      <th>2</th>\n",
       "      <td>Mario Kart Wii</td>\n",
       "      <td>Wii</td>\n",
       "      <td>2008.0</td>\n",
       "      <td>Racing</td>\n",
       "      <td>Nintendo</td>\n",
       "      <td>15.68</td>\n",
       "      <td>12.76</td>\n",
       "      <td>3.79</td>\n",
       "      <td>3.29</td>\n",
       "      <td>35.52</td>\n",
       "      <td>82.0</td>\n",
       "      <td>73.0</td>\n",
       "      <td>8.3</td>\n",
       "      <td>709.0</td>\n",
       "      <td>Nintendo</td>\n",
       "      <td>E</td>\n",
       "    </tr>\n",
       "    <tr>\n",
       "      <th>3</th>\n",
       "      <td>Wii Sports Resort</td>\n",
       "      <td>Wii</td>\n",
       "      <td>2009.0</td>\n",
       "      <td>Sports</td>\n",
       "      <td>Nintendo</td>\n",
       "      <td>15.61</td>\n",
       "      <td>10.93</td>\n",
       "      <td>3.28</td>\n",
       "      <td>2.95</td>\n",
       "      <td>32.77</td>\n",
       "      <td>80.0</td>\n",
       "      <td>73.0</td>\n",
       "      <td>8</td>\n",
       "      <td>192.0</td>\n",
       "      <td>Nintendo</td>\n",
       "      <td>E</td>\n",
       "    </tr>\n",
       "    <tr>\n",
       "      <th>4</th>\n",
       "      <td>Pokemon Red/Pokemon Blue</td>\n",
       "      <td>GB</td>\n",
       "      <td>1996.0</td>\n",
       "      <td>Role-Playing</td>\n",
       "      <td>Nintendo</td>\n",
       "      <td>11.27</td>\n",
       "      <td>8.89</td>\n",
       "      <td>10.22</td>\n",
       "      <td>1.00</td>\n",
       "      <td>31.37</td>\n",
       "      <td>NaN</td>\n",
       "      <td>NaN</td>\n",
       "      <td>NaN</td>\n",
       "      <td>NaN</td>\n",
       "      <td>NaN</td>\n",
       "      <td>NaN</td>\n",
       "    </tr>\n",
       "  </tbody>\n",
       "</table>\n",
       "</div>"
      ],
      "text/plain": [
       "                       Name Platform  Year_of_Release         Genre Publisher  \\\n",
       "0                Wii Sports      Wii           2006.0        Sports  Nintendo   \n",
       "1         Super Mario Bros.      NES           1985.0      Platform  Nintendo   \n",
       "2            Mario Kart Wii      Wii           2008.0        Racing  Nintendo   \n",
       "3         Wii Sports Resort      Wii           2009.0        Sports  Nintendo   \n",
       "4  Pokemon Red/Pokemon Blue       GB           1996.0  Role-Playing  Nintendo   \n",
       "\n",
       "   NA_Sales  EU_Sales  JP_Sales  Other_Sales  Global_Sales  Critic_Score  \\\n",
       "0     41.36     28.96      3.77         8.45         82.53          76.0   \n",
       "1     29.08      3.58      6.81         0.77         40.24           NaN   \n",
       "2     15.68     12.76      3.79         3.29         35.52          82.0   \n",
       "3     15.61     10.93      3.28         2.95         32.77          80.0   \n",
       "4     11.27      8.89     10.22         1.00         31.37           NaN   \n",
       "\n",
       "   Critic_Count User_Score  User_Count Developer Rating  \n",
       "0          51.0          8       322.0  Nintendo      E  \n",
       "1           NaN        NaN         NaN       NaN    NaN  \n",
       "2          73.0        8.3       709.0  Nintendo      E  \n",
       "3          73.0          8       192.0  Nintendo      E  \n",
       "4           NaN        NaN         NaN       NaN    NaN  "
      ]
     },
     "execution_count": 55,
     "metadata": {},
     "output_type": "execute_result"
    }
   ],
   "source": [
    "games_sales.head()"
   ]
  },
  {
   "cell_type": "code",
   "execution_count": 56,
   "metadata": {},
   "outputs": [
    {
     "data": {
      "text/plain": [
       "(16719, 16)"
      ]
     },
     "execution_count": 56,
     "metadata": {},
     "output_type": "execute_result"
    }
   ],
   "source": [
    "games_sales.shape"
   ]
  },
  {
   "cell_type": "code",
   "execution_count": 57,
   "metadata": {},
   "outputs": [
    {
     "data": {
      "text/plain": [
       "6769"
      ]
     },
     "execution_count": 57,
     "metadata": {},
     "output_type": "execute_result"
    }
   ],
   "source": [
    "games_sales[\"Rating\"].isna().sum()"
   ]
  },
  {
   "cell_type": "code",
   "execution_count": 58,
   "metadata": {},
   "outputs": [],
   "source": [
    "games_sales = games_sales.dropna(subset=[\"Rating\"])"
   ]
  },
  {
   "cell_type": "code",
   "execution_count": 59,
   "metadata": {},
   "outputs": [],
   "source": [
    "games_sales = games_sales.drop_duplicates()"
   ]
  },
  {
   "cell_type": "code",
   "execution_count": 60,
   "metadata": {},
   "outputs": [
    {
     "data": {
      "text/html": [
       "<div>\n",
       "<style scoped>\n",
       "    .dataframe tbody tr th:only-of-type {\n",
       "        vertical-align: middle;\n",
       "    }\n",
       "\n",
       "    .dataframe tbody tr th {\n",
       "        vertical-align: top;\n",
       "    }\n",
       "\n",
       "    .dataframe thead th {\n",
       "        text-align: right;\n",
       "    }\n",
       "</style>\n",
       "<table border=\"1\" class=\"dataframe\">\n",
       "  <thead>\n",
       "    <tr style=\"text-align: right;\">\n",
       "      <th></th>\n",
       "      <th>Name</th>\n",
       "      <th>Platform</th>\n",
       "      <th>Year_of_Release</th>\n",
       "      <th>Genre</th>\n",
       "      <th>Publisher</th>\n",
       "      <th>NA_Sales</th>\n",
       "      <th>EU_Sales</th>\n",
       "      <th>JP_Sales</th>\n",
       "      <th>Other_Sales</th>\n",
       "      <th>Global_Sales</th>\n",
       "      <th>Critic_Score</th>\n",
       "      <th>Critic_Count</th>\n",
       "      <th>User_Score</th>\n",
       "      <th>User_Count</th>\n",
       "      <th>Developer</th>\n",
       "      <th>Rating</th>\n",
       "    </tr>\n",
       "  </thead>\n",
       "  <tbody>\n",
       "    <tr>\n",
       "      <th>0</th>\n",
       "      <td>Wii Sports</td>\n",
       "      <td>Wii</td>\n",
       "      <td>2006.0</td>\n",
       "      <td>Sports</td>\n",
       "      <td>Nintendo</td>\n",
       "      <td>41.36</td>\n",
       "      <td>28.96</td>\n",
       "      <td>3.77</td>\n",
       "      <td>8.45</td>\n",
       "      <td>82.53</td>\n",
       "      <td>76.0</td>\n",
       "      <td>51.0</td>\n",
       "      <td>8</td>\n",
       "      <td>322.0</td>\n",
       "      <td>Nintendo</td>\n",
       "      <td>E</td>\n",
       "    </tr>\n",
       "    <tr>\n",
       "      <th>2</th>\n",
       "      <td>Mario Kart Wii</td>\n",
       "      <td>Wii</td>\n",
       "      <td>2008.0</td>\n",
       "      <td>Racing</td>\n",
       "      <td>Nintendo</td>\n",
       "      <td>15.68</td>\n",
       "      <td>12.76</td>\n",
       "      <td>3.79</td>\n",
       "      <td>3.29</td>\n",
       "      <td>35.52</td>\n",
       "      <td>82.0</td>\n",
       "      <td>73.0</td>\n",
       "      <td>8.3</td>\n",
       "      <td>709.0</td>\n",
       "      <td>Nintendo</td>\n",
       "      <td>E</td>\n",
       "    </tr>\n",
       "    <tr>\n",
       "      <th>3</th>\n",
       "      <td>Wii Sports Resort</td>\n",
       "      <td>Wii</td>\n",
       "      <td>2009.0</td>\n",
       "      <td>Sports</td>\n",
       "      <td>Nintendo</td>\n",
       "      <td>15.61</td>\n",
       "      <td>10.93</td>\n",
       "      <td>3.28</td>\n",
       "      <td>2.95</td>\n",
       "      <td>32.77</td>\n",
       "      <td>80.0</td>\n",
       "      <td>73.0</td>\n",
       "      <td>8</td>\n",
       "      <td>192.0</td>\n",
       "      <td>Nintendo</td>\n",
       "      <td>E</td>\n",
       "    </tr>\n",
       "    <tr>\n",
       "      <th>6</th>\n",
       "      <td>New Super Mario Bros.</td>\n",
       "      <td>DS</td>\n",
       "      <td>2006.0</td>\n",
       "      <td>Platform</td>\n",
       "      <td>Nintendo</td>\n",
       "      <td>11.28</td>\n",
       "      <td>9.14</td>\n",
       "      <td>6.50</td>\n",
       "      <td>2.88</td>\n",
       "      <td>29.80</td>\n",
       "      <td>89.0</td>\n",
       "      <td>65.0</td>\n",
       "      <td>8.5</td>\n",
       "      <td>431.0</td>\n",
       "      <td>Nintendo</td>\n",
       "      <td>E</td>\n",
       "    </tr>\n",
       "    <tr>\n",
       "      <th>7</th>\n",
       "      <td>Wii Play</td>\n",
       "      <td>Wii</td>\n",
       "      <td>2006.0</td>\n",
       "      <td>Misc</td>\n",
       "      <td>Nintendo</td>\n",
       "      <td>13.96</td>\n",
       "      <td>9.18</td>\n",
       "      <td>2.93</td>\n",
       "      <td>2.84</td>\n",
       "      <td>28.92</td>\n",
       "      <td>58.0</td>\n",
       "      <td>41.0</td>\n",
       "      <td>6.6</td>\n",
       "      <td>129.0</td>\n",
       "      <td>Nintendo</td>\n",
       "      <td>E</td>\n",
       "    </tr>\n",
       "  </tbody>\n",
       "</table>\n",
       "</div>"
      ],
      "text/plain": [
       "                    Name Platform  Year_of_Release     Genre Publisher  \\\n",
       "0             Wii Sports      Wii           2006.0    Sports  Nintendo   \n",
       "2         Mario Kart Wii      Wii           2008.0    Racing  Nintendo   \n",
       "3      Wii Sports Resort      Wii           2009.0    Sports  Nintendo   \n",
       "6  New Super Mario Bros.       DS           2006.0  Platform  Nintendo   \n",
       "7               Wii Play      Wii           2006.0      Misc  Nintendo   \n",
       "\n",
       "   NA_Sales  EU_Sales  JP_Sales  Other_Sales  Global_Sales  Critic_Score  \\\n",
       "0     41.36     28.96      3.77         8.45         82.53          76.0   \n",
       "2     15.68     12.76      3.79         3.29         35.52          82.0   \n",
       "3     15.61     10.93      3.28         2.95         32.77          80.0   \n",
       "6     11.28      9.14      6.50         2.88         29.80          89.0   \n",
       "7     13.96      9.18      2.93         2.84         28.92          58.0   \n",
       "\n",
       "   Critic_Count User_Score  User_Count Developer Rating  \n",
       "0          51.0          8       322.0  Nintendo      E  \n",
       "2          73.0        8.3       709.0  Nintendo      E  \n",
       "3          73.0          8       192.0  Nintendo      E  \n",
       "6          65.0        8.5       431.0  Nintendo      E  \n",
       "7          41.0        6.6       129.0  Nintendo      E  "
      ]
     },
     "execution_count": 60,
     "metadata": {},
     "output_type": "execute_result"
    }
   ],
   "source": [
    "games_sales.head()"
   ]
  },
  {
   "cell_type": "code",
   "execution_count": 61,
   "metadata": {},
   "outputs": [],
   "source": [
    "games_sales = games_sales[[\"Name\", \"Platform\", \"Rating\"]]"
   ]
  },
  {
   "cell_type": "code",
   "execution_count": 62,
   "metadata": {},
   "outputs": [
    {
     "data": {
      "text/html": [
       "<div>\n",
       "<style scoped>\n",
       "    .dataframe tbody tr th:only-of-type {\n",
       "        vertical-align: middle;\n",
       "    }\n",
       "\n",
       "    .dataframe tbody tr th {\n",
       "        vertical-align: top;\n",
       "    }\n",
       "\n",
       "    .dataframe thead th {\n",
       "        text-align: right;\n",
       "    }\n",
       "</style>\n",
       "<table border=\"1\" class=\"dataframe\">\n",
       "  <thead>\n",
       "    <tr style=\"text-align: right;\">\n",
       "      <th></th>\n",
       "      <th>Name</th>\n",
       "      <th>Platform</th>\n",
       "      <th>Rating</th>\n",
       "    </tr>\n",
       "  </thead>\n",
       "  <tbody>\n",
       "    <tr>\n",
       "      <th>0</th>\n",
       "      <td>Wii Sports</td>\n",
       "      <td>Wii</td>\n",
       "      <td>E</td>\n",
       "    </tr>\n",
       "    <tr>\n",
       "      <th>2</th>\n",
       "      <td>Mario Kart Wii</td>\n",
       "      <td>Wii</td>\n",
       "      <td>E</td>\n",
       "    </tr>\n",
       "    <tr>\n",
       "      <th>3</th>\n",
       "      <td>Wii Sports Resort</td>\n",
       "      <td>Wii</td>\n",
       "      <td>E</td>\n",
       "    </tr>\n",
       "    <tr>\n",
       "      <th>6</th>\n",
       "      <td>New Super Mario Bros.</td>\n",
       "      <td>DS</td>\n",
       "      <td>E</td>\n",
       "    </tr>\n",
       "    <tr>\n",
       "      <th>7</th>\n",
       "      <td>Wii Play</td>\n",
       "      <td>Wii</td>\n",
       "      <td>E</td>\n",
       "    </tr>\n",
       "  </tbody>\n",
       "</table>\n",
       "</div>"
      ],
      "text/plain": [
       "                    Name Platform Rating\n",
       "0             Wii Sports      Wii      E\n",
       "2         Mario Kart Wii      Wii      E\n",
       "3      Wii Sports Resort      Wii      E\n",
       "6  New Super Mario Bros.       DS      E\n",
       "7               Wii Play      Wii      E"
      ]
     },
     "execution_count": 62,
     "metadata": {},
     "output_type": "execute_result"
    }
   ],
   "source": [
    "games_sales.head()"
   ]
  },
  {
   "cell_type": "code",
   "execution_count": 63,
   "metadata": {},
   "outputs": [
    {
     "data": {
      "text/plain": [
       "(9950, 3)"
      ]
     },
     "execution_count": 63,
     "metadata": {},
     "output_type": "execute_result"
    }
   ],
   "source": [
    "games_sales.shape"
   ]
  },
  {
   "cell_type": "markdown",
   "metadata": {},
   "source": [
    "Merging DataFrames"
   ]
  },
  {
   "cell_type": "code",
   "execution_count": 64,
   "metadata": {},
   "outputs": [],
   "source": [
    "vgsales_merged = vgsales_final.merge(games_sales, on=['Platform', 'Name'], how='left')"
   ]
  },
  {
   "cell_type": "code",
   "execution_count": 65,
   "metadata": {},
   "outputs": [
    {
     "data": {
      "text/html": [
       "<div>\n",
       "<style scoped>\n",
       "    .dataframe tbody tr th:only-of-type {\n",
       "        vertical-align: middle;\n",
       "    }\n",
       "\n",
       "    .dataframe tbody tr th {\n",
       "        vertical-align: top;\n",
       "    }\n",
       "\n",
       "    .dataframe thead th {\n",
       "        text-align: right;\n",
       "    }\n",
       "</style>\n",
       "<table border=\"1\" class=\"dataframe\">\n",
       "  <thead>\n",
       "    <tr style=\"text-align: right;\">\n",
       "      <th></th>\n",
       "      <th>Platform</th>\n",
       "      <th>Name</th>\n",
       "      <th>Genre</th>\n",
       "      <th>Publisher</th>\n",
       "      <th>Critic_Score</th>\n",
       "      <th>User_Score</th>\n",
       "      <th>Total_Sales</th>\n",
       "      <th>NA_Sales</th>\n",
       "      <th>JP_Sales</th>\n",
       "      <th>EU_Sales</th>\n",
       "      <th>Other_Sales</th>\n",
       "      <th>Release_Date</th>\n",
       "      <th>Rating</th>\n",
       "    </tr>\n",
       "  </thead>\n",
       "  <tbody>\n",
       "    <tr>\n",
       "      <th>0</th>\n",
       "      <td>PS2</td>\n",
       "      <td>Grand Theft Auto: San Andreas</td>\n",
       "      <td>Action</td>\n",
       "      <td>Rockstar Games</td>\n",
       "      <td>9.5</td>\n",
       "      <td>8.3</td>\n",
       "      <td>NaN</td>\n",
       "      <td>0.30</td>\n",
       "      <td>0.10</td>\n",
       "      <td>0.20</td>\n",
       "      <td>0.10</td>\n",
       "      <td>26/10/2004</td>\n",
       "      <td>M</td>\n",
       "    </tr>\n",
       "    <tr>\n",
       "      <th>1</th>\n",
       "      <td>PS2</td>\n",
       "      <td>Grand Theft Auto: Vice City</td>\n",
       "      <td>Action</td>\n",
       "      <td>Rockstar Games</td>\n",
       "      <td>9.6</td>\n",
       "      <td>8.3</td>\n",
       "      <td>16.15</td>\n",
       "      <td>8.41</td>\n",
       "      <td>0.47</td>\n",
       "      <td>5.49</td>\n",
       "      <td>1.78</td>\n",
       "      <td>28/10/2002</td>\n",
       "      <td>M</td>\n",
       "    </tr>\n",
       "    <tr>\n",
       "      <th>2</th>\n",
       "      <td>PS2</td>\n",
       "      <td>Grand Theft Auto III</td>\n",
       "      <td>Action</td>\n",
       "      <td>Rockstar Games</td>\n",
       "      <td>9.5</td>\n",
       "      <td>8.3</td>\n",
       "      <td>13.10</td>\n",
       "      <td>6.99</td>\n",
       "      <td>0.30</td>\n",
       "      <td>4.51</td>\n",
       "      <td>1.30</td>\n",
       "      <td>23/10/2001</td>\n",
       "      <td>M</td>\n",
       "    </tr>\n",
       "    <tr>\n",
       "      <th>3</th>\n",
       "      <td>PS2</td>\n",
       "      <td>Metal Gear Solid 2: Sons of Liberty</td>\n",
       "      <td>Action</td>\n",
       "      <td>Konami</td>\n",
       "      <td>9.5</td>\n",
       "      <td>7.0</td>\n",
       "      <td>6.05</td>\n",
       "      <td>2.45</td>\n",
       "      <td>0.87</td>\n",
       "      <td>2.01</td>\n",
       "      <td>0.72</td>\n",
       "      <td>12/11/2001</td>\n",
       "      <td>M</td>\n",
       "    </tr>\n",
       "    <tr>\n",
       "      <th>4</th>\n",
       "      <td>PS2</td>\n",
       "      <td>The Lord of the Rings: The Two Towers</td>\n",
       "      <td>Action</td>\n",
       "      <td>Electronic Arts</td>\n",
       "      <td>8.3</td>\n",
       "      <td>8.3</td>\n",
       "      <td>4.67</td>\n",
       "      <td>1.94</td>\n",
       "      <td>0.08</td>\n",
       "      <td>1.95</td>\n",
       "      <td>0.70</td>\n",
       "      <td>21/10/2002</td>\n",
       "      <td>T</td>\n",
       "    </tr>\n",
       "  </tbody>\n",
       "</table>\n",
       "</div>"
      ],
      "text/plain": [
       "  Platform                                   Name   Genre        Publisher  \\\n",
       "0      PS2          Grand Theft Auto: San Andreas  Action   Rockstar Games   \n",
       "1      PS2            Grand Theft Auto: Vice City  Action   Rockstar Games   \n",
       "2      PS2                   Grand Theft Auto III  Action   Rockstar Games   \n",
       "3      PS2    Metal Gear Solid 2: Sons of Liberty  Action           Konami   \n",
       "4      PS2  The Lord of the Rings: The Two Towers  Action  Electronic Arts   \n",
       "\n",
       "   Critic_Score  User_Score  Total_Sales  NA_Sales  JP_Sales  EU_Sales  \\\n",
       "0           9.5         8.3          NaN      0.30      0.10      0.20   \n",
       "1           9.6         8.3        16.15      8.41      0.47      5.49   \n",
       "2           9.5         8.3        13.10      6.99      0.30      4.51   \n",
       "3           9.5         7.0         6.05      2.45      0.87      2.01   \n",
       "4           8.3         8.3         4.67      1.94      0.08      1.95   \n",
       "\n",
       "   Other_Sales Release_Date Rating  \n",
       "0         0.10   26/10/2004      M  \n",
       "1         1.78   28/10/2002      M  \n",
       "2         1.30   23/10/2001      M  \n",
       "3         0.72   12/11/2001      M  \n",
       "4         0.70   21/10/2002      T  "
      ]
     },
     "execution_count": 65,
     "metadata": {},
     "output_type": "execute_result"
    }
   ],
   "source": [
    "vgsales_merged.head()"
   ]
  },
  {
   "cell_type": "code",
   "execution_count": 66,
   "metadata": {},
   "outputs": [
    {
     "data": {
      "text/plain": [
       "(24603, 13)"
      ]
     },
     "execution_count": 66,
     "metadata": {},
     "output_type": "execute_result"
    }
   ],
   "source": [
    "vgsales_merged.shape"
   ]
  },
  {
   "cell_type": "code",
   "execution_count": 67,
   "metadata": {},
   "outputs": [
    {
     "data": {
      "text/plain": [
       "Platform            0\n",
       "Name                0\n",
       "Genre               0\n",
       "Publisher           0\n",
       "Critic_Score        0\n",
       "User_Score          0\n",
       "Total_Sales     10203\n",
       "NA_Sales            0\n",
       "JP_Sales            0\n",
       "EU_Sales            0\n",
       "Other_Sales         0\n",
       "Release_Date        0\n",
       "Rating          16422\n",
       "dtype: int64"
      ]
     },
     "execution_count": 67,
     "metadata": {},
     "output_type": "execute_result"
    }
   ],
   "source": [
    "vgsales_merged.isna().sum()"
   ]
  },
  {
   "cell_type": "code",
   "execution_count": 68,
   "metadata": {},
   "outputs": [],
   "source": [
    "vgsales_merged[\"Rating\"].fillna(\"Unknown\", inplace=True)"
   ]
  },
  {
   "cell_type": "code",
   "execution_count": 69,
   "metadata": {},
   "outputs": [],
   "source": [
    "vgsales_merged = vgsales_merged.set_index(\"Name\")"
   ]
  },
  {
   "cell_type": "code",
   "execution_count": 70,
   "metadata": {},
   "outputs": [
    {
     "data": {
      "text/html": [
       "<div>\n",
       "<style scoped>\n",
       "    .dataframe tbody tr th:only-of-type {\n",
       "        vertical-align: middle;\n",
       "    }\n",
       "\n",
       "    .dataframe tbody tr th {\n",
       "        vertical-align: top;\n",
       "    }\n",
       "\n",
       "    .dataframe thead th {\n",
       "        text-align: right;\n",
       "    }\n",
       "</style>\n",
       "<table border=\"1\" class=\"dataframe\">\n",
       "  <thead>\n",
       "    <tr style=\"text-align: right;\">\n",
       "      <th></th>\n",
       "      <th>Platform</th>\n",
       "      <th>Genre</th>\n",
       "      <th>Publisher</th>\n",
       "      <th>Critic_Score</th>\n",
       "      <th>User_Score</th>\n",
       "      <th>Total_Sales</th>\n",
       "      <th>NA_Sales</th>\n",
       "      <th>JP_Sales</th>\n",
       "      <th>EU_Sales</th>\n",
       "      <th>Other_Sales</th>\n",
       "      <th>Release_Date</th>\n",
       "      <th>Rating</th>\n",
       "    </tr>\n",
       "    <tr>\n",
       "      <th>Name</th>\n",
       "      <th></th>\n",
       "      <th></th>\n",
       "      <th></th>\n",
       "      <th></th>\n",
       "      <th></th>\n",
       "      <th></th>\n",
       "      <th></th>\n",
       "      <th></th>\n",
       "      <th></th>\n",
       "      <th></th>\n",
       "      <th></th>\n",
       "      <th></th>\n",
       "    </tr>\n",
       "  </thead>\n",
       "  <tbody>\n",
       "    <tr>\n",
       "      <th>Grand Theft Auto: San Andreas</th>\n",
       "      <td>PS2</td>\n",
       "      <td>Action</td>\n",
       "      <td>Rockstar Games</td>\n",
       "      <td>9.5</td>\n",
       "      <td>8.3</td>\n",
       "      <td>NaN</td>\n",
       "      <td>0.30</td>\n",
       "      <td>0.10</td>\n",
       "      <td>0.20</td>\n",
       "      <td>0.10</td>\n",
       "      <td>26/10/2004</td>\n",
       "      <td>M</td>\n",
       "    </tr>\n",
       "    <tr>\n",
       "      <th>Grand Theft Auto: Vice City</th>\n",
       "      <td>PS2</td>\n",
       "      <td>Action</td>\n",
       "      <td>Rockstar Games</td>\n",
       "      <td>9.6</td>\n",
       "      <td>8.3</td>\n",
       "      <td>16.15</td>\n",
       "      <td>8.41</td>\n",
       "      <td>0.47</td>\n",
       "      <td>5.49</td>\n",
       "      <td>1.78</td>\n",
       "      <td>28/10/2002</td>\n",
       "      <td>M</td>\n",
       "    </tr>\n",
       "    <tr>\n",
       "      <th>Grand Theft Auto III</th>\n",
       "      <td>PS2</td>\n",
       "      <td>Action</td>\n",
       "      <td>Rockstar Games</td>\n",
       "      <td>9.5</td>\n",
       "      <td>8.3</td>\n",
       "      <td>13.10</td>\n",
       "      <td>6.99</td>\n",
       "      <td>0.30</td>\n",
       "      <td>4.51</td>\n",
       "      <td>1.30</td>\n",
       "      <td>23/10/2001</td>\n",
       "      <td>M</td>\n",
       "    </tr>\n",
       "    <tr>\n",
       "      <th>Metal Gear Solid 2: Sons of Liberty</th>\n",
       "      <td>PS2</td>\n",
       "      <td>Action</td>\n",
       "      <td>Konami</td>\n",
       "      <td>9.5</td>\n",
       "      <td>7.0</td>\n",
       "      <td>6.05</td>\n",
       "      <td>2.45</td>\n",
       "      <td>0.87</td>\n",
       "      <td>2.01</td>\n",
       "      <td>0.72</td>\n",
       "      <td>12/11/2001</td>\n",
       "      <td>M</td>\n",
       "    </tr>\n",
       "    <tr>\n",
       "      <th>The Lord of the Rings: The Two Towers</th>\n",
       "      <td>PS2</td>\n",
       "      <td>Action</td>\n",
       "      <td>Electronic Arts</td>\n",
       "      <td>8.3</td>\n",
       "      <td>8.3</td>\n",
       "      <td>4.67</td>\n",
       "      <td>1.94</td>\n",
       "      <td>0.08</td>\n",
       "      <td>1.95</td>\n",
       "      <td>0.70</td>\n",
       "      <td>21/10/2002</td>\n",
       "      <td>T</td>\n",
       "    </tr>\n",
       "  </tbody>\n",
       "</table>\n",
       "</div>"
      ],
      "text/plain": [
       "                                      Platform   Genre        Publisher  \\\n",
       "Name                                                                      \n",
       "Grand Theft Auto: San Andreas              PS2  Action   Rockstar Games   \n",
       "Grand Theft Auto: Vice City                PS2  Action   Rockstar Games   \n",
       "Grand Theft Auto III                       PS2  Action   Rockstar Games   \n",
       "Metal Gear Solid 2: Sons of Liberty        PS2  Action           Konami   \n",
       "The Lord of the Rings: The Two Towers      PS2  Action  Electronic Arts   \n",
       "\n",
       "                                       Critic_Score  User_Score  Total_Sales  \\\n",
       "Name                                                                           \n",
       "Grand Theft Auto: San Andreas                   9.5         8.3          NaN   \n",
       "Grand Theft Auto: Vice City                     9.6         8.3        16.15   \n",
       "Grand Theft Auto III                            9.5         8.3        13.10   \n",
       "Metal Gear Solid 2: Sons of Liberty             9.5         7.0         6.05   \n",
       "The Lord of the Rings: The Two Towers           8.3         8.3         4.67   \n",
       "\n",
       "                                       NA_Sales  JP_Sales  EU_Sales  \\\n",
       "Name                                                                  \n",
       "Grand Theft Auto: San Andreas              0.30      0.10      0.20   \n",
       "Grand Theft Auto: Vice City                8.41      0.47      5.49   \n",
       "Grand Theft Auto III                       6.99      0.30      4.51   \n",
       "Metal Gear Solid 2: Sons of Liberty        2.45      0.87      2.01   \n",
       "The Lord of the Rings: The Two Towers      1.94      0.08      1.95   \n",
       "\n",
       "                                       Other_Sales Release_Date Rating  \n",
       "Name                                                                    \n",
       "Grand Theft Auto: San Andreas                 0.10   26/10/2004      M  \n",
       "Grand Theft Auto: Vice City                   1.78   28/10/2002      M  \n",
       "Grand Theft Auto III                          1.30   23/10/2001      M  \n",
       "Metal Gear Solid 2: Sons of Liberty           0.72   12/11/2001      M  \n",
       "The Lord of the Rings: The Two Towers         0.70   21/10/2002      T  "
      ]
     },
     "execution_count": 70,
     "metadata": {},
     "output_type": "execute_result"
    }
   ],
   "source": [
    "vgsales_merged.head()"
   ]
  },
  {
   "cell_type": "code",
   "execution_count": 71,
   "metadata": {},
   "outputs": [],
   "source": [
    "vgsales_merged[\"Total_Sales\"] = vgsales_merged[\"NA_Sales\"] + vgsales_merged[\"JP_Sales\"] + vgsales_merged[\"EU_Sales\"] + vgsales_merged[\"Other_Sales\"]"
   ]
  },
  {
   "cell_type": "code",
   "execution_count": 72,
   "metadata": {},
   "outputs": [
    {
     "data": {
      "text/plain": [
       "Platform        0\n",
       "Genre           0\n",
       "Publisher       0\n",
       "Critic_Score    0\n",
       "User_Score      0\n",
       "Total_Sales     0\n",
       "NA_Sales        0\n",
       "JP_Sales        0\n",
       "EU_Sales        0\n",
       "Other_Sales     0\n",
       "Release_Date    0\n",
       "Rating          0\n",
       "dtype: int64"
      ]
     },
     "execution_count": 72,
     "metadata": {},
     "output_type": "execute_result"
    }
   ],
   "source": [
    "vgsales_merged.isna().sum()"
   ]
  },
  {
   "cell_type": "code",
   "execution_count": 73,
   "metadata": {},
   "outputs": [
    {
     "data": {
      "text/html": [
       "<div>\n",
       "<style scoped>\n",
       "    .dataframe tbody tr th:only-of-type {\n",
       "        vertical-align: middle;\n",
       "    }\n",
       "\n",
       "    .dataframe tbody tr th {\n",
       "        vertical-align: top;\n",
       "    }\n",
       "\n",
       "    .dataframe thead th {\n",
       "        text-align: right;\n",
       "    }\n",
       "</style>\n",
       "<table border=\"1\" class=\"dataframe\">\n",
       "  <thead>\n",
       "    <tr style=\"text-align: right;\">\n",
       "      <th></th>\n",
       "      <th>Platform</th>\n",
       "      <th>Genre</th>\n",
       "      <th>Publisher</th>\n",
       "      <th>Critic_Score</th>\n",
       "      <th>User_Score</th>\n",
       "      <th>Total_Sales</th>\n",
       "      <th>NA_Sales</th>\n",
       "      <th>JP_Sales</th>\n",
       "      <th>EU_Sales</th>\n",
       "      <th>Other_Sales</th>\n",
       "      <th>Release_Date</th>\n",
       "      <th>Rating</th>\n",
       "    </tr>\n",
       "    <tr>\n",
       "      <th>Name</th>\n",
       "      <th></th>\n",
       "      <th></th>\n",
       "      <th></th>\n",
       "      <th></th>\n",
       "      <th></th>\n",
       "      <th></th>\n",
       "      <th></th>\n",
       "      <th></th>\n",
       "      <th></th>\n",
       "      <th></th>\n",
       "      <th></th>\n",
       "      <th></th>\n",
       "    </tr>\n",
       "  </thead>\n",
       "  <tbody>\n",
       "    <tr>\n",
       "      <th>Grand Theft Auto: San Andreas</th>\n",
       "      <td>PS2</td>\n",
       "      <td>Action</td>\n",
       "      <td>Rockstar Games</td>\n",
       "      <td>9.5</td>\n",
       "      <td>8.3</td>\n",
       "      <td>0.70</td>\n",
       "      <td>0.30</td>\n",
       "      <td>0.10</td>\n",
       "      <td>0.20</td>\n",
       "      <td>0.10</td>\n",
       "      <td>26/10/2004</td>\n",
       "      <td>M</td>\n",
       "    </tr>\n",
       "    <tr>\n",
       "      <th>Grand Theft Auto: Vice City</th>\n",
       "      <td>PS2</td>\n",
       "      <td>Action</td>\n",
       "      <td>Rockstar Games</td>\n",
       "      <td>9.6</td>\n",
       "      <td>8.3</td>\n",
       "      <td>16.15</td>\n",
       "      <td>8.41</td>\n",
       "      <td>0.47</td>\n",
       "      <td>5.49</td>\n",
       "      <td>1.78</td>\n",
       "      <td>28/10/2002</td>\n",
       "      <td>M</td>\n",
       "    </tr>\n",
       "    <tr>\n",
       "      <th>Grand Theft Auto III</th>\n",
       "      <td>PS2</td>\n",
       "      <td>Action</td>\n",
       "      <td>Rockstar Games</td>\n",
       "      <td>9.5</td>\n",
       "      <td>8.3</td>\n",
       "      <td>13.10</td>\n",
       "      <td>6.99</td>\n",
       "      <td>0.30</td>\n",
       "      <td>4.51</td>\n",
       "      <td>1.30</td>\n",
       "      <td>23/10/2001</td>\n",
       "      <td>M</td>\n",
       "    </tr>\n",
       "    <tr>\n",
       "      <th>Metal Gear Solid 2: Sons of Liberty</th>\n",
       "      <td>PS2</td>\n",
       "      <td>Action</td>\n",
       "      <td>Konami</td>\n",
       "      <td>9.5</td>\n",
       "      <td>7.0</td>\n",
       "      <td>6.05</td>\n",
       "      <td>2.45</td>\n",
       "      <td>0.87</td>\n",
       "      <td>2.01</td>\n",
       "      <td>0.72</td>\n",
       "      <td>12/11/2001</td>\n",
       "      <td>M</td>\n",
       "    </tr>\n",
       "    <tr>\n",
       "      <th>The Lord of the Rings: The Two Towers</th>\n",
       "      <td>PS2</td>\n",
       "      <td>Action</td>\n",
       "      <td>Electronic Arts</td>\n",
       "      <td>8.3</td>\n",
       "      <td>8.3</td>\n",
       "      <td>4.67</td>\n",
       "      <td>1.94</td>\n",
       "      <td>0.08</td>\n",
       "      <td>1.95</td>\n",
       "      <td>0.70</td>\n",
       "      <td>21/10/2002</td>\n",
       "      <td>T</td>\n",
       "    </tr>\n",
       "  </tbody>\n",
       "</table>\n",
       "</div>"
      ],
      "text/plain": [
       "                                      Platform   Genre        Publisher  \\\n",
       "Name                                                                      \n",
       "Grand Theft Auto: San Andreas              PS2  Action   Rockstar Games   \n",
       "Grand Theft Auto: Vice City                PS2  Action   Rockstar Games   \n",
       "Grand Theft Auto III                       PS2  Action   Rockstar Games   \n",
       "Metal Gear Solid 2: Sons of Liberty        PS2  Action           Konami   \n",
       "The Lord of the Rings: The Two Towers      PS2  Action  Electronic Arts   \n",
       "\n",
       "                                       Critic_Score  User_Score  Total_Sales  \\\n",
       "Name                                                                           \n",
       "Grand Theft Auto: San Andreas                   9.5         8.3         0.70   \n",
       "Grand Theft Auto: Vice City                     9.6         8.3        16.15   \n",
       "Grand Theft Auto III                            9.5         8.3        13.10   \n",
       "Metal Gear Solid 2: Sons of Liberty             9.5         7.0         6.05   \n",
       "The Lord of the Rings: The Two Towers           8.3         8.3         4.67   \n",
       "\n",
       "                                       NA_Sales  JP_Sales  EU_Sales  \\\n",
       "Name                                                                  \n",
       "Grand Theft Auto: San Andreas              0.30      0.10      0.20   \n",
       "Grand Theft Auto: Vice City                8.41      0.47      5.49   \n",
       "Grand Theft Auto III                       6.99      0.30      4.51   \n",
       "Metal Gear Solid 2: Sons of Liberty        2.45      0.87      2.01   \n",
       "The Lord of the Rings: The Two Towers      1.94      0.08      1.95   \n",
       "\n",
       "                                       Other_Sales Release_Date Rating  \n",
       "Name                                                                    \n",
       "Grand Theft Auto: San Andreas                 0.10   26/10/2004      M  \n",
       "Grand Theft Auto: Vice City                   1.78   28/10/2002      M  \n",
       "Grand Theft Auto III                          1.30   23/10/2001      M  \n",
       "Metal Gear Solid 2: Sons of Liberty           0.72   12/11/2001      M  \n",
       "The Lord of the Rings: The Two Towers         0.70   21/10/2002      T  "
      ]
     },
     "execution_count": 73,
     "metadata": {},
     "output_type": "execute_result"
    }
   ],
   "source": [
    "vgsales_merged.head()"
   ]
  },
  {
   "cell_type": "markdown",
   "metadata": {},
   "source": [
    "Converting Release Date column from an object to datetime format, so sorting the dates will be easier and more accurate."
   ]
  },
  {
   "cell_type": "code",
   "execution_count": 74,
   "metadata": {},
   "outputs": [],
   "source": [
    "vgsales_merged[\"Release_Date\"] = pd.to_datetime(vgsales_merged[\"Release_Date\"])"
   ]
  },
  {
   "cell_type": "code",
   "execution_count": 75,
   "metadata": {},
   "outputs": [],
   "source": [
    "vgsales_merged = vgsales_merged.sort_values(\"Release_Date\")"
   ]
  },
  {
   "cell_type": "code",
   "execution_count": 76,
   "metadata": {},
   "outputs": [
    {
     "data": {
      "text/html": [
       "<div>\n",
       "<style scoped>\n",
       "    .dataframe tbody tr th:only-of-type {\n",
       "        vertical-align: middle;\n",
       "    }\n",
       "\n",
       "    .dataframe tbody tr th {\n",
       "        vertical-align: top;\n",
       "    }\n",
       "\n",
       "    .dataframe thead th {\n",
       "        text-align: right;\n",
       "    }\n",
       "</style>\n",
       "<table border=\"1\" class=\"dataframe\">\n",
       "  <thead>\n",
       "    <tr style=\"text-align: right;\">\n",
       "      <th></th>\n",
       "      <th>Platform</th>\n",
       "      <th>Genre</th>\n",
       "      <th>Publisher</th>\n",
       "      <th>Critic_Score</th>\n",
       "      <th>User_Score</th>\n",
       "      <th>Total_Sales</th>\n",
       "      <th>NA_Sales</th>\n",
       "      <th>JP_Sales</th>\n",
       "      <th>EU_Sales</th>\n",
       "      <th>Other_Sales</th>\n",
       "      <th>Release_Date</th>\n",
       "      <th>Rating</th>\n",
       "    </tr>\n",
       "    <tr>\n",
       "      <th>Name</th>\n",
       "      <th></th>\n",
       "      <th></th>\n",
       "      <th></th>\n",
       "      <th></th>\n",
       "      <th></th>\n",
       "      <th></th>\n",
       "      <th></th>\n",
       "      <th></th>\n",
       "      <th></th>\n",
       "      <th></th>\n",
       "      <th></th>\n",
       "      <th></th>\n",
       "    </tr>\n",
       "  </thead>\n",
       "  <tbody>\n",
       "    <tr>\n",
       "      <th>Nintengirls: College Girl &amp; Friends</th>\n",
       "      <td>DS</td>\n",
       "      <td>Simulation</td>\n",
       "      <td>Nintendo</td>\n",
       "      <td>7.2</td>\n",
       "      <td>8.3</td>\n",
       "      <td>0.70</td>\n",
       "      <td>0.30</td>\n",
       "      <td>0.10</td>\n",
       "      <td>0.2</td>\n",
       "      <td>0.10</td>\n",
       "      <td>1975-12-10</td>\n",
       "      <td>Unknown</td>\n",
       "    </tr>\n",
       "    <tr>\n",
       "      <th>G1 Jockey 2</th>\n",
       "      <td>PS2</td>\n",
       "      <td>Sports</td>\n",
       "      <td>KOEI</td>\n",
       "      <td>7.2</td>\n",
       "      <td>8.3</td>\n",
       "      <td>0.66</td>\n",
       "      <td>0.30</td>\n",
       "      <td>0.06</td>\n",
       "      <td>0.2</td>\n",
       "      <td>0.10</td>\n",
       "      <td>2000-02-11</td>\n",
       "      <td>Unknown</td>\n",
       "    </tr>\n",
       "    <tr>\n",
       "      <th>Dance Summit 2001: Bust A Move</th>\n",
       "      <td>PS2</td>\n",
       "      <td>Misc</td>\n",
       "      <td>Enix</td>\n",
       "      <td>7.2</td>\n",
       "      <td>8.3</td>\n",
       "      <td>0.70</td>\n",
       "      <td>0.30</td>\n",
       "      <td>0.10</td>\n",
       "      <td>0.2</td>\n",
       "      <td>0.10</td>\n",
       "      <td>2000-02-11</td>\n",
       "      <td>Unknown</td>\n",
       "    </tr>\n",
       "    <tr>\n",
       "      <th>BeatMania IIDX 3rd Style</th>\n",
       "      <td>PS2</td>\n",
       "      <td>Simulation</td>\n",
       "      <td>Konami</td>\n",
       "      <td>7.2</td>\n",
       "      <td>8.3</td>\n",
       "      <td>0.65</td>\n",
       "      <td>0.30</td>\n",
       "      <td>0.05</td>\n",
       "      <td>0.2</td>\n",
       "      <td>0.10</td>\n",
       "      <td>2000-02-11</td>\n",
       "      <td>Unknown</td>\n",
       "    </tr>\n",
       "    <tr>\n",
       "      <th>Q-Ball: Billiards Master</th>\n",
       "      <td>PS2</td>\n",
       "      <td>Sports</td>\n",
       "      <td>Take-Two Interactive</td>\n",
       "      <td>7.2</td>\n",
       "      <td>8.3</td>\n",
       "      <td>0.37</td>\n",
       "      <td>0.13</td>\n",
       "      <td>0.10</td>\n",
       "      <td>0.1</td>\n",
       "      <td>0.04</td>\n",
       "      <td>2000-02-29</td>\n",
       "      <td>E</td>\n",
       "    </tr>\n",
       "  </tbody>\n",
       "</table>\n",
       "</div>"
      ],
      "text/plain": [
       "                                    Platform       Genre  \\\n",
       "Name                                                       \n",
       "Nintengirls: College Girl & Friends       DS  Simulation   \n",
       "G1 Jockey 2                              PS2      Sports   \n",
       "Dance Summit 2001: Bust A Move           PS2        Misc   \n",
       "BeatMania IIDX 3rd Style                 PS2  Simulation   \n",
       "Q-Ball: Billiards Master                 PS2      Sports   \n",
       "\n",
       "                                                Publisher  Critic_Score  \\\n",
       "Name                                                                      \n",
       "Nintengirls: College Girl & Friends              Nintendo           7.2   \n",
       "G1 Jockey 2                                          KOEI           7.2   \n",
       "Dance Summit 2001: Bust A Move                       Enix           7.2   \n",
       "BeatMania IIDX 3rd Style                           Konami           7.2   \n",
       "Q-Ball: Billiards Master             Take-Two Interactive           7.2   \n",
       "\n",
       "                                     User_Score  Total_Sales  NA_Sales  \\\n",
       "Name                                                                     \n",
       "Nintengirls: College Girl & Friends         8.3         0.70      0.30   \n",
       "G1 Jockey 2                                 8.3         0.66      0.30   \n",
       "Dance Summit 2001: Bust A Move              8.3         0.70      0.30   \n",
       "BeatMania IIDX 3rd Style                    8.3         0.65      0.30   \n",
       "Q-Ball: Billiards Master                    8.3         0.37      0.13   \n",
       "\n",
       "                                     JP_Sales  EU_Sales  Other_Sales  \\\n",
       "Name                                                                   \n",
       "Nintengirls: College Girl & Friends      0.10       0.2         0.10   \n",
       "G1 Jockey 2                              0.06       0.2         0.10   \n",
       "Dance Summit 2001: Bust A Move           0.10       0.2         0.10   \n",
       "BeatMania IIDX 3rd Style                 0.05       0.2         0.10   \n",
       "Q-Ball: Billiards Master                 0.10       0.1         0.04   \n",
       "\n",
       "                                    Release_Date   Rating  \n",
       "Name                                                       \n",
       "Nintengirls: College Girl & Friends   1975-12-10  Unknown  \n",
       "G1 Jockey 2                           2000-02-11  Unknown  \n",
       "Dance Summit 2001: Bust A Move        2000-02-11  Unknown  \n",
       "BeatMania IIDX 3rd Style              2000-02-11  Unknown  \n",
       "Q-Ball: Billiards Master              2000-02-29        E  "
      ]
     },
     "execution_count": 76,
     "metadata": {},
     "output_type": "execute_result"
    }
   ],
   "source": [
    "vgsales_merged.head()"
   ]
  },
  {
   "cell_type": "code",
   "execution_count": 77,
   "metadata": {},
   "outputs": [
    {
     "data": {
      "text/plain": [
       "(24603, 12)"
      ]
     },
     "execution_count": 77,
     "metadata": {},
     "output_type": "execute_result"
    }
   ],
   "source": [
    "vgsales_merged.shape"
   ]
  },
  {
   "cell_type": "code",
   "execution_count": 78,
   "metadata": {},
   "outputs": [],
   "source": [
    "vgsales_merged = vgsales_merged.iloc[1:, :]"
   ]
  },
  {
   "cell_type": "code",
   "execution_count": 79,
   "metadata": {},
   "outputs": [
    {
     "data": {
      "text/plain": [
       "(24602, 12)"
      ]
     },
     "execution_count": 79,
     "metadata": {},
     "output_type": "execute_result"
    }
   ],
   "source": [
    "vgsales_merged.shape"
   ]
  },
  {
   "cell_type": "code",
   "execution_count": 80,
   "metadata": {},
   "outputs": [
    {
     "data": {
      "text/html": [
       "<div>\n",
       "<style scoped>\n",
       "    .dataframe tbody tr th:only-of-type {\n",
       "        vertical-align: middle;\n",
       "    }\n",
       "\n",
       "    .dataframe tbody tr th {\n",
       "        vertical-align: top;\n",
       "    }\n",
       "\n",
       "    .dataframe thead th {\n",
       "        text-align: right;\n",
       "    }\n",
       "</style>\n",
       "<table border=\"1\" class=\"dataframe\">\n",
       "  <thead>\n",
       "    <tr style=\"text-align: right;\">\n",
       "      <th></th>\n",
       "      <th>Platform</th>\n",
       "      <th>Genre</th>\n",
       "      <th>Publisher</th>\n",
       "      <th>Critic_Score</th>\n",
       "      <th>User_Score</th>\n",
       "      <th>Total_Sales</th>\n",
       "      <th>NA_Sales</th>\n",
       "      <th>JP_Sales</th>\n",
       "      <th>EU_Sales</th>\n",
       "      <th>Other_Sales</th>\n",
       "      <th>Release_Date</th>\n",
       "      <th>Rating</th>\n",
       "    </tr>\n",
       "    <tr>\n",
       "      <th>Name</th>\n",
       "      <th></th>\n",
       "      <th></th>\n",
       "      <th></th>\n",
       "      <th></th>\n",
       "      <th></th>\n",
       "      <th></th>\n",
       "      <th></th>\n",
       "      <th></th>\n",
       "      <th></th>\n",
       "      <th></th>\n",
       "      <th></th>\n",
       "      <th></th>\n",
       "    </tr>\n",
       "  </thead>\n",
       "  <tbody>\n",
       "    <tr>\n",
       "      <th>G1 Jockey 2</th>\n",
       "      <td>PS2</td>\n",
       "      <td>Sports</td>\n",
       "      <td>KOEI</td>\n",
       "      <td>7.2</td>\n",
       "      <td>8.3</td>\n",
       "      <td>0.66</td>\n",
       "      <td>0.30</td>\n",
       "      <td>0.06</td>\n",
       "      <td>0.2</td>\n",
       "      <td>0.10</td>\n",
       "      <td>2000-02-11</td>\n",
       "      <td>Unknown</td>\n",
       "    </tr>\n",
       "    <tr>\n",
       "      <th>Dance Summit 2001: Bust A Move</th>\n",
       "      <td>PS2</td>\n",
       "      <td>Misc</td>\n",
       "      <td>Enix</td>\n",
       "      <td>7.2</td>\n",
       "      <td>8.3</td>\n",
       "      <td>0.70</td>\n",
       "      <td>0.30</td>\n",
       "      <td>0.10</td>\n",
       "      <td>0.2</td>\n",
       "      <td>0.10</td>\n",
       "      <td>2000-02-11</td>\n",
       "      <td>Unknown</td>\n",
       "    </tr>\n",
       "    <tr>\n",
       "      <th>BeatMania IIDX 3rd Style</th>\n",
       "      <td>PS2</td>\n",
       "      <td>Simulation</td>\n",
       "      <td>Konami</td>\n",
       "      <td>7.2</td>\n",
       "      <td>8.3</td>\n",
       "      <td>0.65</td>\n",
       "      <td>0.30</td>\n",
       "      <td>0.05</td>\n",
       "      <td>0.2</td>\n",
       "      <td>0.10</td>\n",
       "      <td>2000-02-11</td>\n",
       "      <td>Unknown</td>\n",
       "    </tr>\n",
       "    <tr>\n",
       "      <th>Q-Ball: Billiards Master</th>\n",
       "      <td>PS2</td>\n",
       "      <td>Sports</td>\n",
       "      <td>Take-Two Interactive</td>\n",
       "      <td>7.2</td>\n",
       "      <td>8.3</td>\n",
       "      <td>0.37</td>\n",
       "      <td>0.13</td>\n",
       "      <td>0.10</td>\n",
       "      <td>0.1</td>\n",
       "      <td>0.04</td>\n",
       "      <td>2000-02-29</td>\n",
       "      <td>E</td>\n",
       "    </tr>\n",
       "    <tr>\n",
       "      <th>Dream Audition</th>\n",
       "      <td>PS2</td>\n",
       "      <td>Misc</td>\n",
       "      <td>Jaleco</td>\n",
       "      <td>7.2</td>\n",
       "      <td>8.3</td>\n",
       "      <td>0.70</td>\n",
       "      <td>0.30</td>\n",
       "      <td>0.10</td>\n",
       "      <td>0.2</td>\n",
       "      <td>0.10</td>\n",
       "      <td>2000-03-08</td>\n",
       "      <td>Unknown</td>\n",
       "    </tr>\n",
       "  </tbody>\n",
       "</table>\n",
       "</div>"
      ],
      "text/plain": [
       "                               Platform       Genre             Publisher  \\\n",
       "Name                                                                        \n",
       "G1 Jockey 2                         PS2      Sports                  KOEI   \n",
       "Dance Summit 2001: Bust A Move      PS2        Misc                  Enix   \n",
       "BeatMania IIDX 3rd Style            PS2  Simulation                Konami   \n",
       "Q-Ball: Billiards Master            PS2      Sports  Take-Two Interactive   \n",
       "Dream Audition                      PS2        Misc                Jaleco   \n",
       "\n",
       "                                Critic_Score  User_Score  Total_Sales  \\\n",
       "Name                                                                    \n",
       "G1 Jockey 2                              7.2         8.3         0.66   \n",
       "Dance Summit 2001: Bust A Move           7.2         8.3         0.70   \n",
       "BeatMania IIDX 3rd Style                 7.2         8.3         0.65   \n",
       "Q-Ball: Billiards Master                 7.2         8.3         0.37   \n",
       "Dream Audition                           7.2         8.3         0.70   \n",
       "\n",
       "                                NA_Sales  JP_Sales  EU_Sales  Other_Sales  \\\n",
       "Name                                                                        \n",
       "G1 Jockey 2                         0.30      0.06       0.2         0.10   \n",
       "Dance Summit 2001: Bust A Move      0.30      0.10       0.2         0.10   \n",
       "BeatMania IIDX 3rd Style            0.30      0.05       0.2         0.10   \n",
       "Q-Ball: Billiards Master            0.13      0.10       0.1         0.04   \n",
       "Dream Audition                      0.30      0.10       0.2         0.10   \n",
       "\n",
       "                               Release_Date   Rating  \n",
       "Name                                                  \n",
       "G1 Jockey 2                      2000-02-11  Unknown  \n",
       "Dance Summit 2001: Bust A Move   2000-02-11  Unknown  \n",
       "BeatMania IIDX 3rd Style         2000-02-11  Unknown  \n",
       "Q-Ball: Billiards Master         2000-02-29        E  \n",
       "Dream Audition                   2000-03-08  Unknown  "
      ]
     },
     "execution_count": 80,
     "metadata": {},
     "output_type": "execute_result"
    }
   ],
   "source": [
    "vgsales_merged.head()"
   ]
  },
  {
   "cell_type": "markdown",
   "metadata": {},
   "source": [
    "Plots to look at sales by platform/console"
   ]
  },
  {
   "cell_type": "code",
   "execution_count": 81,
   "metadata": {},
   "outputs": [
    {
     "data": {
      "image/png": "[encoded data removed]",
      "text/plain": [
       "<Figure size 432x288 with 1 Axes>"
      ]
     },
     "metadata": {
      "needs_background": "light"
     },
     "output_type": "display_data"
    }
   ],
   "source": [
    "sns.countplot(data=vgsales_merged, y=\"Platform\") # How many games in each platform on the DataFrame\n",
    "plt.savefig(\"Count Plot for Platforms.png\")"
   ]
  },
  {
   "cell_type": "code",
   "execution_count": 82,
   "metadata": {},
   "outputs": [],
   "source": [
    "platform_sales = vgsales_merged.groupby(\"Platform\")[\"Total_Sales\"].sum()"
   ]
  },
  {
   "cell_type": "code",
   "execution_count": 83,
   "metadata": {},
   "outputs": [
    {
     "data": {
      "image/png": "[encoded data removed]",
      "text/plain": [
       "<Figure size 432x288 with 1 Axes>"
      ]
     },
     "metadata": {
      "needs_background": "light"
     },
     "output_type": "display_data"
    }
   ],
   "source": [
    "platform_sales.plot(kind=\"bar\", ylabel=\"Total Sales\", title=\"Video Game Sales by Platform\")\n",
    "plt.savefig(\"Video Game Sales by Platform.png\")"
   ]
  },
  {
   "cell_type": "code",
   "execution_count": 84,
   "metadata": {},
   "outputs": [
    {
     "data": {
      "text/plain": [
       "2493.28"
      ]
     },
     "execution_count": 84,
     "metadata": {},
     "output_type": "execute_result"
    }
   ],
   "source": [
    "vgsales_merged[\"Total_Sales\"][vgsales_merged[\"Platform\"] == \"PS2\"].sum()"
   ]
  },
  {
   "cell_type": "code",
   "execution_count": 85,
   "metadata": {},
   "outputs": [
    {
     "data": {
      "text/plain": [
       "1706.5900000000001"
      ]
     },
     "execution_count": 85,
     "metadata": {},
     "output_type": "execute_result"
    }
   ],
   "source": [
    "vgsales_merged[\"Total_Sales\"][vgsales_merged[\"Platform\"] == \"DS\"].sum()"
   ]
  },
  {
   "cell_type": "code",
   "execution_count": 86,
   "metadata": {},
   "outputs": [
    {
     "data": {
      "text/plain": [
       "1206.9"
      ]
     },
     "execution_count": 86,
     "metadata": {},
     "output_type": "execute_result"
    }
   ],
   "source": [
    "vgsales_merged[\"Total_Sales\"][vgsales_merged[\"Platform\"] == \"X360\"].sum()"
   ]
  },
  {
   "cell_type": "code",
   "execution_count": 87,
   "metadata": {},
   "outputs": [],
   "source": [
    "console_sales = console_sales.loc[[\"PlayStation 2 (PS2)\", \"PlayStation 3 (PS3)\", \"PlayStation 4 (PS4)\", \"PlayStation 5 (PS5)\", \"PlayStation Portable (PSP)\", \"PlayStation Vita (PSV)\", \"Xbox (XB)\", \"Xbox 360 (X360)\", \"Xbox One (XOne)\", \"Xbox Series X/S (XS)\", \"GameCube (GC)\", \"Nintendo DS (DS)\", \"Nintendo 3DS (3DS)\", \"Nintendo Switch (NS)\", \"Wii (Wii)\", \"Wii U (WiiU)\"]]"
   ]
  },
  {
   "cell_type": "code",
   "execution_count": 88,
   "metadata": {},
   "outputs": [],
   "source": [
    "console_sales = console_sales.reset_index()"
   ]
  },
  {
   "cell_type": "code",
   "execution_count": 89,
   "metadata": {},
   "outputs": [],
   "source": [
    "for lab, row in console_sales.iterrows():\n",
    "    if \"PS\" in str(row[\"Platform\"]):\n",
    "        console_sales.loc[lab, \"Company\"] = \"Sony\"\n",
    "    elif \"X\" in str(row[\"Platform\"]):\n",
    "        console_sales.loc[lab, \"Company\"] = \"Microsoft\"\n",
    "    else :\n",
    "        console_sales.loc[lab, \"Company\"] = \"Nintendo\""
   ]
  },
  {
   "cell_type": "code",
   "execution_count": 90,
   "metadata": {},
   "outputs": [
    {
     "data": {
      "text/html": [
       "<div>\n",
       "<style scoped>\n",
       "    .dataframe tbody tr th:only-of-type {\n",
       "        vertical-align: middle;\n",
       "    }\n",
       "\n",
       "    .dataframe tbody tr th {\n",
       "        vertical-align: top;\n",
       "    }\n",
       "\n",
       "    .dataframe thead th {\n",
       "        text-align: right;\n",
       "    }\n",
       "</style>\n",
       "<table border=\"1\" class=\"dataframe\">\n",
       "  <thead>\n",
       "    <tr style=\"text-align: right;\">\n",
       "      <th></th>\n",
       "      <th>Platform</th>\n",
       "      <th>North America</th>\n",
       "      <th>Europe</th>\n",
       "      <th>Japan</th>\n",
       "      <th>Rest of World</th>\n",
       "      <th>Global</th>\n",
       "      <th>Company</th>\n",
       "    </tr>\n",
       "  </thead>\n",
       "  <tbody>\n",
       "    <tr>\n",
       "      <th>0</th>\n",
       "      <td>PlayStation 2 (PS2)</td>\n",
       "      <td>53.65</td>\n",
       "      <td>55.28</td>\n",
       "      <td>23.18</td>\n",
       "      <td>25.57</td>\n",
       "      <td>157.68</td>\n",
       "      <td>Sony</td>\n",
       "    </tr>\n",
       "    <tr>\n",
       "      <th>1</th>\n",
       "      <td>PlayStation 3 (PS3)</td>\n",
       "      <td>29.42</td>\n",
       "      <td>34.99</td>\n",
       "      <td>10.47</td>\n",
       "      <td>12.53</td>\n",
       "      <td>87.41</td>\n",
       "      <td>Sony</td>\n",
       "    </tr>\n",
       "    <tr>\n",
       "      <th>2</th>\n",
       "      <td>PlayStation 4 (PS4)</td>\n",
       "      <td>38.14</td>\n",
       "      <td>48.09</td>\n",
       "      <td>9.36</td>\n",
       "      <td>19.99</td>\n",
       "      <td>115.58</td>\n",
       "      <td>Sony</td>\n",
       "    </tr>\n",
       "    <tr>\n",
       "      <th>3</th>\n",
       "      <td>PlayStation 5 (PS5)</td>\n",
       "      <td>3.70</td>\n",
       "      <td>2.88</td>\n",
       "      <td>0.73</td>\n",
       "      <td>1.13</td>\n",
       "      <td>8.44</td>\n",
       "      <td>Sony</td>\n",
       "    </tr>\n",
       "    <tr>\n",
       "      <th>4</th>\n",
       "      <td>PlayStation Portable (PSP)</td>\n",
       "      <td>21.41</td>\n",
       "      <td>24.41</td>\n",
       "      <td>20.01</td>\n",
       "      <td>15.26</td>\n",
       "      <td>81.09</td>\n",
       "      <td>Sony</td>\n",
       "    </tr>\n",
       "  </tbody>\n",
       "</table>\n",
       "</div>"
      ],
      "text/plain": [
       "                     Platform  North America  Europe  Japan  Rest of World  \\\n",
       "0         PlayStation 2 (PS2)          53.65   55.28  23.18          25.57   \n",
       "1         PlayStation 3 (PS3)          29.42   34.99  10.47          12.53   \n",
       "2         PlayStation 4 (PS4)          38.14   48.09   9.36          19.99   \n",
       "3         PlayStation 5 (PS5)           3.70    2.88   0.73           1.13   \n",
       "4  PlayStation Portable (PSP)          21.41   24.41  20.01          15.26   \n",
       "\n",
       "   Global Company  \n",
       "0  157.68    Sony  \n",
       "1   87.41    Sony  \n",
       "2  115.58    Sony  \n",
       "3    8.44    Sony  \n",
       "4   81.09    Sony  "
      ]
     },
     "execution_count": 90,
     "metadata": {},
     "output_type": "execute_result"
    }
   ],
   "source": [
    "console_sales.head()"
   ]
  },
  {
   "cell_type": "code",
   "execution_count": 91,
   "metadata": {},
   "outputs": [],
   "source": [
    "company_sales = console_sales.groupby(\"Company\")[\"Global\"].sum()"
   ]
  },
  {
   "cell_type": "code",
   "execution_count": 92,
   "metadata": {},
   "outputs": [
    {
     "data": {
      "image/png": "[encoded data removed]",
      "text/plain": [
       "<Figure size 432x288 with 1 Axes>"
      ]
     },
     "metadata": {
      "needs_background": "light"
     },
     "output_type": "display_data"
    }
   ],
   "source": [
    "company_sales.plot(kind=\"bar\", ylabel=\"Global\", title=\"Company Console Sales\")\n",
    "plt.savefig(\"Company console sales.png\")"
   ]
  },
  {
   "cell_type": "markdown",
   "metadata": {},
   "source": [
    "Creating a DataFrame from a custom list of dictionaries on top platforms"
   ]
  },
  {
   "cell_type": "code",
   "execution_count": 93,
   "metadata": {},
   "outputs": [],
   "source": [
    "cust_dict = {\"Platform\": [\"PS2\", \"X360\", \"DS\"], \"Global Console Sales (millions)\": [157.68, 85.80, 154.90], \"Global Game Sales\": [2493.28, 1706.59, 1206.9], \"Total Sales\": [2650.96, 1792.39, 1361.8]}"
   ]
  },
  {
   "cell_type": "markdown",
   "metadata": {},
   "source": [
    "Creating Numpy array"
   ]
  },
  {
   "cell_type": "code",
   "execution_count": 94,
   "metadata": {},
   "outputs": [],
   "source": [
    "console = [157.68, 85.80, 154.90]"
   ]
  },
  {
   "cell_type": "code",
   "execution_count": 95,
   "metadata": {},
   "outputs": [],
   "source": [
    "games = [2493.28, 1706.59, 1206.9]"
   ]
  },
  {
   "cell_type": "code",
   "execution_count": 96,
   "metadata": {},
   "outputs": [],
   "source": [
    "np_console = np.array(console)"
   ]
  },
  {
   "cell_type": "code",
   "execution_count": 97,
   "metadata": {},
   "outputs": [],
   "source": [
    "np_games = np.array(games)"
   ]
  },
  {
   "cell_type": "code",
   "execution_count": 98,
   "metadata": {},
   "outputs": [],
   "source": [
    "sum_sales = np_console + np_games"
   ]
  },
  {
   "cell_type": "code",
   "execution_count": 99,
   "metadata": {},
   "outputs": [
    {
     "name": "stdout",
     "output_type": "stream",
     "text": [
      "[2650.96 1792.39 1361.8 ]\n"
     ]
    }
   ],
   "source": [
    "print(sum_sales)"
   ]
  },
  {
   "cell_type": "code",
   "execution_count": 100,
   "metadata": {},
   "outputs": [],
   "source": [
    "top_consoles = pd.DataFrame(cust_dict)"
   ]
  },
  {
   "cell_type": "code",
   "execution_count": 101,
   "metadata": {},
   "outputs": [
    {
     "name": "stdout",
     "output_type": "stream",
     "text": [
      "  Platform  Global Console Sales (millions)  Global Game Sales  Total Sales\n",
      "0      PS2                           157.68            2493.28      2650.96\n",
      "1     X360                            85.80            1706.59      1792.39\n",
      "2       DS                           154.90            1206.90      1361.80\n"
     ]
    }
   ],
   "source": [
    "print(top_consoles)"
   ]
  },
  {
   "cell_type": "code",
   "execution_count": 102,
   "metadata": {},
   "outputs": [
    {
     "data": {
      "text/html": [
       "<div>\n",
       "<style scoped>\n",
       "    .dataframe tbody tr th:only-of-type {\n",
       "        vertical-align: middle;\n",
       "    }\n",
       "\n",
       "    .dataframe tbody tr th {\n",
       "        vertical-align: top;\n",
       "    }\n",
       "\n",
       "    .dataframe thead th {\n",
       "        text-align: right;\n",
       "    }\n",
       "</style>\n",
       "<table border=\"1\" class=\"dataframe\">\n",
       "  <thead>\n",
       "    <tr style=\"text-align: right;\">\n",
       "      <th></th>\n",
       "      <th>Global Console Sales (millions)</th>\n",
       "      <th>Global Game Sales</th>\n",
       "      <th>Total Sales</th>\n",
       "    </tr>\n",
       "    <tr>\n",
       "      <th>Platform</th>\n",
       "      <th></th>\n",
       "      <th></th>\n",
       "      <th></th>\n",
       "    </tr>\n",
       "  </thead>\n",
       "  <tbody>\n",
       "    <tr>\n",
       "      <th>PS2</th>\n",
       "      <td>157.68</td>\n",
       "      <td>2493.28</td>\n",
       "      <td>2650.96</td>\n",
       "    </tr>\n",
       "    <tr>\n",
       "      <th>X360</th>\n",
       "      <td>85.80</td>\n",
       "      <td>1706.59</td>\n",
       "      <td>1792.39</td>\n",
       "    </tr>\n",
       "    <tr>\n",
       "      <th>DS</th>\n",
       "      <td>154.90</td>\n",
       "      <td>1206.90</td>\n",
       "      <td>1361.80</td>\n",
       "    </tr>\n",
       "  </tbody>\n",
       "</table>\n",
       "</div>"
      ],
      "text/plain": [
       "          Global Console Sales (millions)  Global Game Sales  Total Sales\n",
       "Platform                                                                 \n",
       "PS2                                157.68            2493.28      2650.96\n",
       "X360                                85.80            1706.59      1792.39\n",
       "DS                                 154.90            1206.90      1361.80"
      ]
     },
     "execution_count": 102,
     "metadata": {},
     "output_type": "execute_result"
    }
   ],
   "source": [
    "top_consoles.set_index(\"Platform\")"
   ]
  },
  {
   "cell_type": "markdown",
   "metadata": {},
   "source": [
    "Plot on critic scores vs total sales (and user scores as comparison)"
   ]
  },
  {
   "cell_type": "code",
   "execution_count": 103,
   "metadata": {},
   "outputs": [
    {
     "data": {
      "image/png": "[encoded data removed]",
      "text/plain": [
       "<Figure size 432x288 with 1 Axes>"
      ]
     },
     "metadata": {
      "needs_background": "light"
     },
     "output_type": "display_data"
    }
   ],
   "source": [
    "critic_scores = vgsales_merged[\"Critic_Score\"]\n",
    "user_scores = vgsales_merged[\"User_Score\"]\n",
    "fig, ax = plt.subplots()\n",
    "ax.scatter(critic_scores, vgsales_merged[\"Total_Sales\"], color=\"red\", label=\"Critic Scores\")\n",
    "ax.scatter(user_scores, vgsales_merged[\"Total_Sales\"], color=\"blue\", label=\"User Scores\")\n",
    "ax.legend()\n",
    "ax.set_xlabel(\"Scores\")\n",
    "ax.set_ylabel(\"Total Sales\")\n",
    "ax.set_title(\"Critic Scores/User Scores vs Total Sales\")\n",
    "plt.savefig(\"Sales by Critic Scores\")"
   ]
  },
  {
   "cell_type": "markdown",
   "metadata": {},
   "source": [
    "Genres vs total sales"
   ]
  },
  {
   "cell_type": "code",
   "execution_count": 104,
   "metadata": {},
   "outputs": [],
   "source": [
    "Genre_sales = vgsales_merged.groupby(\"Genre\")[\"Total_Sales\"].sum()"
   ]
  },
  {
   "cell_type": "code",
   "execution_count": 105,
   "metadata": {},
   "outputs": [
    {
     "name": "stdout",
     "output_type": "stream",
     "text": [
      "Genre\n",
      "Action              2423.23\n",
      "Action-Adventure     329.24\n",
      "Adventure           1445.46\n",
      "Board Game             9.94\n",
      "Education              1.09\n",
      "Fighting             655.79\n",
      "MMO                   21.89\n",
      "Misc                2529.39\n",
      "Music                120.44\n",
      "Party                 37.73\n",
      "Platform             756.46\n",
      "Puzzle               779.29\n",
      "Racing               888.67\n",
      "Role-Playing        1310.73\n",
      "Sandbox                3.99\n",
      "Shooter             1704.34\n",
      "Simulation           683.93\n",
      "Sports              1804.35\n",
      "Strategy             467.06\n",
      "Visual Novel         185.62\n",
      "Name: Total_Sales, dtype: float64\n"
     ]
    }
   ],
   "source": [
    "print(Genre_sales)"
   ]
  },
  {
   "cell_type": "code",
   "execution_count": 106,
   "metadata": {},
   "outputs": [
    {
     "data": {
      "image/png": "[encoded data removed]",
      "text/plain": [
       "<Figure size 432x288 with 1 Axes>"
      ]
     },
     "metadata": {
      "needs_background": "light"
     },
     "output_type": "display_data"
    }
   ],
   "source": [
    "Genre_sales.plot(kind=\"bar\", ylabel=\"Total Sales\", title=\"Video Game Sales by Genre\")\n",
    "plt.savefig(\"Video game sales by genre.png\", dpi=200)"
   ]
  },
  {
   "cell_type": "markdown",
   "metadata": {},
   "source": [
    "Top publishers from top 100 games in the DataFrame"
   ]
  },
  {
   "cell_type": "code",
   "execution_count": 107,
   "metadata": {},
   "outputs": [],
   "source": [
    "publishers = vgsales_merged.sort_values(\"Total_Sales\", ascending=False)"
   ]
  },
  {
   "cell_type": "code",
   "execution_count": 108,
   "metadata": {},
   "outputs": [],
   "source": [
    "publishers = publishers.iloc[:100, :]"
   ]
  },
  {
   "cell_type": "code",
   "execution_count": 109,
   "metadata": {},
   "outputs": [
    {
     "data": {
      "text/html": [
       "<div>\n",
       "<style scoped>\n",
       "    .dataframe tbody tr th:only-of-type {\n",
       "        vertical-align: middle;\n",
       "    }\n",
       "\n",
       "    .dataframe tbody tr th {\n",
       "        vertical-align: top;\n",
       "    }\n",
       "\n",
       "    .dataframe thead th {\n",
       "        text-align: right;\n",
       "    }\n",
       "</style>\n",
       "<table border=\"1\" class=\"dataframe\">\n",
       "  <thead>\n",
       "    <tr style=\"text-align: right;\">\n",
       "      <th></th>\n",
       "      <th>Platform</th>\n",
       "      <th>Genre</th>\n",
       "      <th>Publisher</th>\n",
       "      <th>Critic_Score</th>\n",
       "      <th>User_Score</th>\n",
       "      <th>Total_Sales</th>\n",
       "      <th>NA_Sales</th>\n",
       "      <th>JP_Sales</th>\n",
       "      <th>EU_Sales</th>\n",
       "      <th>Other_Sales</th>\n",
       "      <th>Release_Date</th>\n",
       "      <th>Rating</th>\n",
       "    </tr>\n",
       "    <tr>\n",
       "      <th>Name</th>\n",
       "      <th></th>\n",
       "      <th></th>\n",
       "      <th></th>\n",
       "      <th></th>\n",
       "      <th></th>\n",
       "      <th></th>\n",
       "      <th></th>\n",
       "      <th></th>\n",
       "      <th></th>\n",
       "      <th></th>\n",
       "      <th></th>\n",
       "      <th></th>\n",
       "    </tr>\n",
       "  </thead>\n",
       "  <tbody>\n",
       "    <tr>\n",
       "      <th>Grand Theft Auto V</th>\n",
       "      <td>PS3</td>\n",
       "      <td>Action</td>\n",
       "      <td>Rockstar Games</td>\n",
       "      <td>9.4</td>\n",
       "      <td>8.3</td>\n",
       "      <td>20.33</td>\n",
       "      <td>6.37</td>\n",
       "      <td>0.99</td>\n",
       "      <td>9.85</td>\n",
       "      <td>3.12</td>\n",
       "      <td>2013-09-17</td>\n",
       "      <td>M</td>\n",
       "    </tr>\n",
       "    <tr>\n",
       "      <th>Grand Theft Auto V</th>\n",
       "      <td>PS4</td>\n",
       "      <td>Action</td>\n",
       "      <td>Rockstar Games</td>\n",
       "      <td>9.7</td>\n",
       "      <td>8.3</td>\n",
       "      <td>19.39</td>\n",
       "      <td>6.06</td>\n",
       "      <td>0.60</td>\n",
       "      <td>9.71</td>\n",
       "      <td>3.02</td>\n",
       "      <td>2014-11-18</td>\n",
       "      <td>M</td>\n",
       "    </tr>\n",
       "    <tr>\n",
       "      <th>Grand Theft Auto: Vice City</th>\n",
       "      <td>PS2</td>\n",
       "      <td>Action</td>\n",
       "      <td>Rockstar Games</td>\n",
       "      <td>9.6</td>\n",
       "      <td>8.3</td>\n",
       "      <td>16.15</td>\n",
       "      <td>8.41</td>\n",
       "      <td>0.47</td>\n",
       "      <td>5.49</td>\n",
       "      <td>1.78</td>\n",
       "      <td>2002-10-28</td>\n",
       "      <td>M</td>\n",
       "    </tr>\n",
       "    <tr>\n",
       "      <th>Grand Theft Auto V</th>\n",
       "      <td>X360</td>\n",
       "      <td>Action</td>\n",
       "      <td>Rockstar Games</td>\n",
       "      <td>7.2</td>\n",
       "      <td>8.3</td>\n",
       "      <td>15.87</td>\n",
       "      <td>9.06</td>\n",
       "      <td>0.06</td>\n",
       "      <td>5.33</td>\n",
       "      <td>1.42</td>\n",
       "      <td>2013-09-17</td>\n",
       "      <td>M</td>\n",
       "    </tr>\n",
       "    <tr>\n",
       "      <th>Call of Duty: Black Ops 3</th>\n",
       "      <td>PS4</td>\n",
       "      <td>Shooter</td>\n",
       "      <td>Activision</td>\n",
       "      <td>7.2</td>\n",
       "      <td>8.3</td>\n",
       "      <td>15.08</td>\n",
       "      <td>6.18</td>\n",
       "      <td>0.41</td>\n",
       "      <td>6.05</td>\n",
       "      <td>2.44</td>\n",
       "      <td>2015-06-11</td>\n",
       "      <td>Unknown</td>\n",
       "    </tr>\n",
       "  </tbody>\n",
       "</table>\n",
       "</div>"
      ],
      "text/plain": [
       "                            Platform    Genre       Publisher  Critic_Score  \\\n",
       "Name                                                                          \n",
       "Grand Theft Auto V               PS3   Action  Rockstar Games           9.4   \n",
       "Grand Theft Auto V               PS4   Action  Rockstar Games           9.7   \n",
       "Grand Theft Auto: Vice City      PS2   Action  Rockstar Games           9.6   \n",
       "Grand Theft Auto V              X360   Action  Rockstar Games           7.2   \n",
       "Call of Duty: Black Ops 3        PS4  Shooter      Activision           7.2   \n",
       "\n",
       "                             User_Score  Total_Sales  NA_Sales  JP_Sales  \\\n",
       "Name                                                                       \n",
       "Grand Theft Auto V                  8.3        20.33      6.37      0.99   \n",
       "Grand Theft Auto V                  8.3        19.39      6.06      0.60   \n",
       "Grand Theft Auto: Vice City         8.3        16.15      8.41      0.47   \n",
       "Grand Theft Auto V                  8.3        15.87      9.06      0.06   \n",
       "Call of Duty: Black Ops 3           8.3        15.08      6.18      0.41   \n",
       "\n",
       "                             EU_Sales  Other_Sales Release_Date   Rating  \n",
       "Name                                                                      \n",
       "Grand Theft Auto V               9.85         3.12   2013-09-17        M  \n",
       "Grand Theft Auto V               9.71         3.02   2014-11-18        M  \n",
       "Grand Theft Auto: Vice City      5.49         1.78   2002-10-28        M  \n",
       "Grand Theft Auto V               5.33         1.42   2013-09-17        M  \n",
       "Call of Duty: Black Ops 3        6.05         2.44   2015-06-11  Unknown  "
      ]
     },
     "execution_count": 109,
     "metadata": {},
     "output_type": "execute_result"
    }
   ],
   "source": [
    "publishers.head()"
   ]
  },
  {
   "cell_type": "code",
   "execution_count": 110,
   "metadata": {},
   "outputs": [
    {
     "data": {
      "image/png": "[encoded data removed]",
      "text/plain": [
       "<Figure size 360x360 with 1 Axes>"
      ]
     },
     "metadata": {
      "needs_background": "light"
     },
     "output_type": "display_data"
    }
   ],
   "source": [
    "sns.catplot(x=\"Total_Sales\", y=\"Publisher\", data=publishers, kind='bar', ci=None)\n",
    "plt.savefig(\"Top publishers.png\")"
   ]
  },
  {
   "cell_type": "markdown",
   "metadata": {},
   "source": [
    "Sales by video game age rating"
   ]
  },
  {
   "cell_type": "code",
   "execution_count": 111,
   "metadata": {},
   "outputs": [],
   "source": [
    "rating_sales = vgsales_merged.groupby(\"Rating\")[\"Total_Sales\"].sum()"
   ]
  },
  {
   "cell_type": "code",
   "execution_count": 112,
   "metadata": {},
   "outputs": [
    {
     "data": {
      "image/png": "[encoded data removed]",
      "text/plain": [
       "<Figure size 432x288 with 1 Axes>"
      ]
     },
     "metadata": {
      "needs_background": "light"
     },
     "output_type": "display_data"
    }
   ],
   "source": [
    "rating_sales.plot(kind=\"bar\", ylabel=\"Total Sales\", title=\"Video Game Sales by Rating\")\n",
    "plt.savefig(\"Sales by Game Rating.png\")"
   ]
  },
  {
   "cell_type": "markdown",
   "metadata": {},
   "source": [
    "Sales by Year"
   ]
  },
  {
   "cell_type": "code",
   "execution_count": 113,
   "metadata": {},
   "outputs": [],
   "source": [
    "vg_year = vgsales_merged.reset_index()"
   ]
  },
  {
   "cell_type": "code",
   "execution_count": 114,
   "metadata": {},
   "outputs": [],
   "source": [
    "vg_year = vg_year.set_index(\"Release_Date\")"
   ]
  },
  {
   "cell_type": "code",
   "execution_count": 115,
   "metadata": {},
   "outputs": [
    {
     "data": {
      "text/html": [
       "<div>\n",
       "<style scoped>\n",
       "    .dataframe tbody tr th:only-of-type {\n",
       "        vertical-align: middle;\n",
       "    }\n",
       "\n",
       "    .dataframe tbody tr th {\n",
       "        vertical-align: top;\n",
       "    }\n",
       "\n",
       "    .dataframe thead th {\n",
       "        text-align: right;\n",
       "    }\n",
       "</style>\n",
       "<table border=\"1\" class=\"dataframe\">\n",
       "  <thead>\n",
       "    <tr style=\"text-align: right;\">\n",
       "      <th></th>\n",
       "      <th>Name</th>\n",
       "      <th>Platform</th>\n",
       "      <th>Genre</th>\n",
       "      <th>Publisher</th>\n",
       "      <th>Critic_Score</th>\n",
       "      <th>User_Score</th>\n",
       "      <th>Total_Sales</th>\n",
       "      <th>NA_Sales</th>\n",
       "      <th>JP_Sales</th>\n",
       "      <th>EU_Sales</th>\n",
       "      <th>Other_Sales</th>\n",
       "      <th>Rating</th>\n",
       "    </tr>\n",
       "    <tr>\n",
       "      <th>Release_Date</th>\n",
       "      <th></th>\n",
       "      <th></th>\n",
       "      <th></th>\n",
       "      <th></th>\n",
       "      <th></th>\n",
       "      <th></th>\n",
       "      <th></th>\n",
       "      <th></th>\n",
       "      <th></th>\n",
       "      <th></th>\n",
       "      <th></th>\n",
       "      <th></th>\n",
       "    </tr>\n",
       "  </thead>\n",
       "  <tbody>\n",
       "    <tr>\n",
       "      <th>2000-02-11</th>\n",
       "      <td>G1 Jockey 2</td>\n",
       "      <td>PS2</td>\n",
       "      <td>Sports</td>\n",
       "      <td>KOEI</td>\n",
       "      <td>7.2</td>\n",
       "      <td>8.3</td>\n",
       "      <td>0.66</td>\n",
       "      <td>0.30</td>\n",
       "      <td>0.06</td>\n",
       "      <td>0.2</td>\n",
       "      <td>0.10</td>\n",
       "      <td>Unknown</td>\n",
       "    </tr>\n",
       "    <tr>\n",
       "      <th>2000-02-11</th>\n",
       "      <td>Dance Summit 2001: Bust A Move</td>\n",
       "      <td>PS2</td>\n",
       "      <td>Misc</td>\n",
       "      <td>Enix</td>\n",
       "      <td>7.2</td>\n",
       "      <td>8.3</td>\n",
       "      <td>0.70</td>\n",
       "      <td>0.30</td>\n",
       "      <td>0.10</td>\n",
       "      <td>0.2</td>\n",
       "      <td>0.10</td>\n",
       "      <td>Unknown</td>\n",
       "    </tr>\n",
       "    <tr>\n",
       "      <th>2000-02-11</th>\n",
       "      <td>BeatMania IIDX 3rd Style</td>\n",
       "      <td>PS2</td>\n",
       "      <td>Simulation</td>\n",
       "      <td>Konami</td>\n",
       "      <td>7.2</td>\n",
       "      <td>8.3</td>\n",
       "      <td>0.65</td>\n",
       "      <td>0.30</td>\n",
       "      <td>0.05</td>\n",
       "      <td>0.2</td>\n",
       "      <td>0.10</td>\n",
       "      <td>Unknown</td>\n",
       "    </tr>\n",
       "    <tr>\n",
       "      <th>2000-02-29</th>\n",
       "      <td>Q-Ball: Billiards Master</td>\n",
       "      <td>PS2</td>\n",
       "      <td>Sports</td>\n",
       "      <td>Take-Two Interactive</td>\n",
       "      <td>7.2</td>\n",
       "      <td>8.3</td>\n",
       "      <td>0.37</td>\n",
       "      <td>0.13</td>\n",
       "      <td>0.10</td>\n",
       "      <td>0.1</td>\n",
       "      <td>0.04</td>\n",
       "      <td>E</td>\n",
       "    </tr>\n",
       "    <tr>\n",
       "      <th>2000-03-08</th>\n",
       "      <td>Dream Audition</td>\n",
       "      <td>PS2</td>\n",
       "      <td>Misc</td>\n",
       "      <td>Jaleco</td>\n",
       "      <td>7.2</td>\n",
       "      <td>8.3</td>\n",
       "      <td>0.70</td>\n",
       "      <td>0.30</td>\n",
       "      <td>0.10</td>\n",
       "      <td>0.2</td>\n",
       "      <td>0.10</td>\n",
       "      <td>Unknown</td>\n",
       "    </tr>\n",
       "  </tbody>\n",
       "</table>\n",
       "</div>"
      ],
      "text/plain": [
       "                                        Name Platform       Genre  \\\n",
       "Release_Date                                                        \n",
       "2000-02-11                       G1 Jockey 2      PS2      Sports   \n",
       "2000-02-11    Dance Summit 2001: Bust A Move      PS2        Misc   \n",
       "2000-02-11          BeatMania IIDX 3rd Style      PS2  Simulation   \n",
       "2000-02-29          Q-Ball: Billiards Master      PS2      Sports   \n",
       "2000-03-08                    Dream Audition      PS2        Misc   \n",
       "\n",
       "                         Publisher  Critic_Score  User_Score  Total_Sales  \\\n",
       "Release_Date                                                                \n",
       "2000-02-11                    KOEI           7.2         8.3         0.66   \n",
       "2000-02-11                    Enix           7.2         8.3         0.70   \n",
       "2000-02-11                  Konami           7.2         8.3         0.65   \n",
       "2000-02-29    Take-Two Interactive           7.2         8.3         0.37   \n",
       "2000-03-08                  Jaleco           7.2         8.3         0.70   \n",
       "\n",
       "              NA_Sales  JP_Sales  EU_Sales  Other_Sales   Rating  \n",
       "Release_Date                                                      \n",
       "2000-02-11        0.30      0.06       0.2         0.10  Unknown  \n",
       "2000-02-11        0.30      0.10       0.2         0.10  Unknown  \n",
       "2000-02-11        0.30      0.05       0.2         0.10  Unknown  \n",
       "2000-02-29        0.13      0.10       0.1         0.04        E  \n",
       "2000-03-08        0.30      0.10       0.2         0.10  Unknown  "
      ]
     },
     "execution_count": 115,
     "metadata": {},
     "output_type": "execute_result"
    }
   ],
   "source": [
    "vg_year.head()"
   ]
  },
  {
   "cell_type": "code",
   "execution_count": 116,
   "metadata": {},
   "outputs": [
    {
     "data": {
      "image/png": "[encoded data removed]",
      "text/plain": [
       "<Figure size 432x288 with 1 Axes>"
      ]
     },
     "metadata": {
      "needs_background": "light"
     },
     "output_type": "display_data"
    }
   ],
   "source": [
    "vg_year[\"Total_Sales\"].plot()\n",
    "plt.savefig(\"Total sales 2000-2020.png\")"
   ]
  },
  {
   "cell_type": "code",
   "execution_count": 117,
   "metadata": {},
   "outputs": [],
   "source": [
    "vg2012_2016 = vg_year.loc[\"2012\":\"2016\"]"
   ]
  },
  {
   "cell_type": "code",
   "execution_count": 118,
   "metadata": {},
   "outputs": [
    {
     "data": {
      "text/html": [
       "<div>\n",
       "<style scoped>\n",
       "    .dataframe tbody tr th:only-of-type {\n",
       "        vertical-align: middle;\n",
       "    }\n",
       "\n",
       "    .dataframe tbody tr th {\n",
       "        vertical-align: top;\n",
       "    }\n",
       "\n",
       "    .dataframe thead th {\n",
       "        text-align: right;\n",
       "    }\n",
       "</style>\n",
       "<table border=\"1\" class=\"dataframe\">\n",
       "  <thead>\n",
       "    <tr style=\"text-align: right;\">\n",
       "      <th></th>\n",
       "      <th>Name</th>\n",
       "      <th>Platform</th>\n",
       "      <th>Genre</th>\n",
       "      <th>Publisher</th>\n",
       "      <th>Critic_Score</th>\n",
       "      <th>User_Score</th>\n",
       "      <th>Total_Sales</th>\n",
       "      <th>NA_Sales</th>\n",
       "      <th>JP_Sales</th>\n",
       "      <th>EU_Sales</th>\n",
       "      <th>Other_Sales</th>\n",
       "      <th>Rating</th>\n",
       "    </tr>\n",
       "    <tr>\n",
       "      <th>Release_Date</th>\n",
       "      <th></th>\n",
       "      <th></th>\n",
       "      <th></th>\n",
       "      <th></th>\n",
       "      <th></th>\n",
       "      <th></th>\n",
       "      <th></th>\n",
       "      <th></th>\n",
       "      <th></th>\n",
       "      <th></th>\n",
       "      <th></th>\n",
       "      <th></th>\n",
       "    </tr>\n",
       "  </thead>\n",
       "  <tbody>\n",
       "    <tr>\n",
       "      <th>2012-01-02</th>\n",
       "      <td>Double Fine Happy Action Theater</td>\n",
       "      <td>XBL</td>\n",
       "      <td>Misc</td>\n",
       "      <td>Microsoft Studios</td>\n",
       "      <td>7.2</td>\n",
       "      <td>8.3</td>\n",
       "      <td>0.70</td>\n",
       "      <td>0.3</td>\n",
       "      <td>0.10</td>\n",
       "      <td>0.2</td>\n",
       "      <td>0.1</td>\n",
       "      <td>Unknown</td>\n",
       "    </tr>\n",
       "    <tr>\n",
       "      <th>2012-01-03</th>\n",
       "      <td>Aahh! Spot the Difference</td>\n",
       "      <td>3DS</td>\n",
       "      <td>Misc</td>\n",
       "      <td>Gamelion Studios</td>\n",
       "      <td>7.2</td>\n",
       "      <td>8.3</td>\n",
       "      <td>0.70</td>\n",
       "      <td>0.3</td>\n",
       "      <td>0.10</td>\n",
       "      <td>0.2</td>\n",
       "      <td>0.1</td>\n",
       "      <td>Unknown</td>\n",
       "    </tr>\n",
       "    <tr>\n",
       "      <th>2012-01-03</th>\n",
       "      <td>Doraemon: Nobita and the Island of Miracles</td>\n",
       "      <td>3DS</td>\n",
       "      <td>Adventure</td>\n",
       "      <td>FuRyu Corporation</td>\n",
       "      <td>7.2</td>\n",
       "      <td>8.3</td>\n",
       "      <td>0.68</td>\n",
       "      <td>0.3</td>\n",
       "      <td>0.08</td>\n",
       "      <td>0.2</td>\n",
       "      <td>0.1</td>\n",
       "      <td>Unknown</td>\n",
       "    </tr>\n",
       "    <tr>\n",
       "      <th>2012-01-03</th>\n",
       "      <td>Great Battle Full Blast</td>\n",
       "      <td>PSP</td>\n",
       "      <td>Fighting</td>\n",
       "      <td>Namco Bandai Games</td>\n",
       "      <td>7.2</td>\n",
       "      <td>8.3</td>\n",
       "      <td>0.64</td>\n",
       "      <td>0.3</td>\n",
       "      <td>0.04</td>\n",
       "      <td>0.2</td>\n",
       "      <td>0.1</td>\n",
       "      <td>Unknown</td>\n",
       "    </tr>\n",
       "    <tr>\n",
       "      <th>2012-01-05</th>\n",
       "      <td>Awesomenauts</td>\n",
       "      <td>PSN</td>\n",
       "      <td>Platform</td>\n",
       "      <td>DTP Entertainment</td>\n",
       "      <td>7.2</td>\n",
       "      <td>8.3</td>\n",
       "      <td>0.70</td>\n",
       "      <td>0.3</td>\n",
       "      <td>0.10</td>\n",
       "      <td>0.2</td>\n",
       "      <td>0.1</td>\n",
       "      <td>Unknown</td>\n",
       "    </tr>\n",
       "  </tbody>\n",
       "</table>\n",
       "</div>"
      ],
      "text/plain": [
       "                                                     Name Platform      Genre  \\\n",
       "Release_Date                                                                    \n",
       "2012-01-02               Double Fine Happy Action Theater      XBL       Misc   \n",
       "2012-01-03                      Aahh! Spot the Difference      3DS       Misc   \n",
       "2012-01-03    Doraemon: Nobita and the Island of Miracles      3DS  Adventure   \n",
       "2012-01-03                        Great Battle Full Blast      PSP   Fighting   \n",
       "2012-01-05                                   Awesomenauts      PSN   Platform   \n",
       "\n",
       "                       Publisher  Critic_Score  User_Score  Total_Sales  \\\n",
       "Release_Date                                                              \n",
       "2012-01-02     Microsoft Studios           7.2         8.3         0.70   \n",
       "2012-01-03      Gamelion Studios           7.2         8.3         0.70   \n",
       "2012-01-03     FuRyu Corporation           7.2         8.3         0.68   \n",
       "2012-01-03    Namco Bandai Games           7.2         8.3         0.64   \n",
       "2012-01-05     DTP Entertainment           7.2         8.3         0.70   \n",
       "\n",
       "              NA_Sales  JP_Sales  EU_Sales  Other_Sales   Rating  \n",
       "Release_Date                                                      \n",
       "2012-01-02         0.3      0.10       0.2          0.1  Unknown  \n",
       "2012-01-03         0.3      0.10       0.2          0.1  Unknown  \n",
       "2012-01-03         0.3      0.08       0.2          0.1  Unknown  \n",
       "2012-01-03         0.3      0.04       0.2          0.1  Unknown  \n",
       "2012-01-05         0.3      0.10       0.2          0.1  Unknown  "
      ]
     },
     "execution_count": 118,
     "metadata": {},
     "output_type": "execute_result"
    }
   ],
   "source": [
    "vg2012_2016.head()"
   ]
  },
  {
   "cell_type": "code",
   "execution_count": 119,
   "metadata": {},
   "outputs": [
    {
     "data": {
      "image/png": "[encoded data removed]",
      "text/plain": [
       "<Figure size 432x288 with 1 Axes>"
      ]
     },
     "metadata": {
      "needs_background": "light"
     },
     "output_type": "display_data"
    }
   ],
   "source": [
    "vg2012_2016[\"Total_Sales\"].plot()\n",
    "plt.savefig(\"Total sales 2012-2016.png\")"
   ]
  },
  {
   "cell_type": "code",
   "execution_count": 120,
   "metadata": {},
   "outputs": [],
   "source": [
    "vg2013_2015 = vg_year.loc[\"2013\":\"2015\"]"
   ]
  },
  {
   "cell_type": "code",
   "execution_count": 121,
   "metadata": {},
   "outputs": [
    {
     "data": {
      "image/png": "[encoded data removed]",
      "text/plain": [
       "<Figure size 432x288 with 1 Axes>"
      ]
     },
     "metadata": {
      "needs_background": "light"
     },
     "output_type": "display_data"
    }
   ],
   "source": [
    "vg2013_2015[\"Total_Sales\"].plot()\n",
    "plt.savefig(\"Total sales 2013-2015.png\")"
   ]
  },
  {
   "cell_type": "code",
   "execution_count": 122,
   "metadata": {},
   "outputs": [],
   "source": [
    "vg2013 = vg_year.loc[\"2013\"]"
   ]
  },
  {
   "cell_type": "code",
   "execution_count": 123,
   "metadata": {},
   "outputs": [],
   "source": [
    "vg2013 = vg2013.reset_index()"
   ]
  },
  {
   "cell_type": "code",
   "execution_count": 124,
   "metadata": {},
   "outputs": [
    {
     "data": {
      "image/png": "[encoded data removed]",
      "text/plain": [
       "<Figure size 432x288 with 1 Axes>"
      ]
     },
     "metadata": {
      "needs_background": "light"
     },
     "output_type": "display_data"
    }
   ],
   "source": [
    "fig, ax = plt.subplots()\n",
    "ax.plot(vg2013[\"Release_Date\"], vg2013[\"Total_Sales\"])\n",
    "ax.plot(vg2013[\"Release_Date\"], vg2013[\"NA_Sales\"])\n",
    "ax.plot(vg2013[\"Release_Date\"], vg2013[\"EU_Sales\"])\n",
    "ax.plot(vg2013[\"Release_Date\"], vg2013[\"JP_Sales\"])\n",
    "ax.plot(vg2013[\"Release_Date\"], vg2013[\"Other_Sales\"])\n",
    "ax.set_xlabel(\"Release Date\")\n",
    "ax.set_ylabel(\"Sales\")\n",
    "ax.set_title(\"Video Game Sales 2013\")\n",
    "plt.savefig(\"Video Game Sales 2013.png\")"
   ]
  }
 ],
 "metadata": {
  "kernelspec": {
   "display_name": "Python 3",
   "language": "python",
   "name": "python3"
  },
  "language_info": {
   "codemirror_mode": {
    "name": "ipython",
    "version": 3
   },
   "file_extension": ".py",
   "mimetype": "text/x-python",
   "name": "python",
   "nbconvert_exporter": "python",
   "pygments_lexer": "ipython3",
   "version": "3.8.5"
  }
 },
 "nbformat": 4,
 "nbformat_minor": 4
}
